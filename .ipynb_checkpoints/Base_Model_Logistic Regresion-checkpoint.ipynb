{
 "cells": [
  {
   "cell_type": "code",
   "execution_count": 1,
   "id": "b482bf9b",
   "metadata": {},
   "outputs": [],
   "source": [
    "import pandas as pd \n",
    "\n",
    "import numpy as np\n",
    "\n",
    "import matplotlib.pyplot as plt\n",
    "from matplotlib.colors import ListedColormap\n",
    "\n",
    "import seaborn as sns\n",
    "\n",
    "from warnings import filterwarnings\n",
    "filterwarnings('ignore')\n",
    "\n",
    "pd.options.display.max_columns = None\n",
    "\n",
    "pd.options.display.max_rows = None\n",
    " \n",
    "pd.options.display.float_format = '{:.6f}'.format\n",
    "\n",
    "from sklearn.model_selection import train_test_split\n",
    "\n",
    "import statsmodels\n",
    "import statsmodels.api as sm\n",
    "\n",
    "from sklearn.preprocessing import StandardScaler\n",
    "\n",
    "from sklearn import metrics\n",
    "from sklearn.linear_model import LogisticRegression\n",
    "from sklearn.metrics import classification_report\n",
    "from sklearn.metrics import cohen_kappa_score\n",
    "from sklearn.metrics import confusion_matrix\n",
    "from sklearn.metrics import roc_curve\n",
    "from sklearn.metrics import accuracy_score\n",
    "plt.rcParams['figure.figsize'] = [15,8]"
   ]
  },
  {
   "cell_type": "code",
   "execution_count": 2,
   "id": "b592420d",
   "metadata": {},
   "outputs": [
    {
     "data": {
      "text/html": [
       "<div>\n",
       "<style scoped>\n",
       "    .dataframe tbody tr th:only-of-type {\n",
       "        vertical-align: middle;\n",
       "    }\n",
       "\n",
       "    .dataframe tbody tr th {\n",
       "        vertical-align: top;\n",
       "    }\n",
       "\n",
       "    .dataframe thead th {\n",
       "        text-align: right;\n",
       "    }\n",
       "</style>\n",
       "<table border=\"1\" class=\"dataframe\">\n",
       "  <thead>\n",
       "    <tr style=\"text-align: right;\">\n",
       "      <th></th>\n",
       "      <th>age</th>\n",
       "      <th>balance</th>\n",
       "      <th>day</th>\n",
       "      <th>duration</th>\n",
       "      <th>campaign</th>\n",
       "      <th>pdays</th>\n",
       "      <th>previous</th>\n",
       "      <th>job_blue-collar</th>\n",
       "      <th>job_entrepreneur</th>\n",
       "      <th>job_housemaid</th>\n",
       "      <th>job_management</th>\n",
       "      <th>job_retired</th>\n",
       "      <th>job_self-employed</th>\n",
       "      <th>job_services</th>\n",
       "      <th>job_student</th>\n",
       "      <th>job_technician</th>\n",
       "      <th>job_unemployed</th>\n",
       "      <th>job_unknown</th>\n",
       "      <th>marital_married</th>\n",
       "      <th>marital_single</th>\n",
       "      <th>education_secondary</th>\n",
       "      <th>education_tertiary</th>\n",
       "      <th>education_unknown</th>\n",
       "      <th>default_yes</th>\n",
       "      <th>housing_yes</th>\n",
       "      <th>loan_yes</th>\n",
       "      <th>contact_telephone</th>\n",
       "      <th>contact_unknown</th>\n",
       "      <th>month_aug</th>\n",
       "      <th>month_dec</th>\n",
       "      <th>month_feb</th>\n",
       "      <th>month_jan</th>\n",
       "      <th>month_jul</th>\n",
       "      <th>month_jun</th>\n",
       "      <th>month_mar</th>\n",
       "      <th>month_may</th>\n",
       "      <th>month_nov</th>\n",
       "      <th>month_oct</th>\n",
       "      <th>month_sep</th>\n",
       "      <th>poutcome_other</th>\n",
       "      <th>poutcome_success</th>\n",
       "      <th>poutcome_unknown</th>\n",
       "      <th>y_yes</th>\n",
       "      <th>age_group_19-25</th>\n",
       "      <th>age_group_26-35</th>\n",
       "      <th>age_group_36-50</th>\n",
       "      <th>age_group_51-65</th>\n",
       "      <th>age_group_65+</th>\n",
       "      <th>day_of_month_15-21</th>\n",
       "      <th>day_of_month_22-28</th>\n",
       "      <th>day_of_month_29-31</th>\n",
       "      <th>day_of_month_8-14</th>\n",
       "    </tr>\n",
       "  </thead>\n",
       "  <tbody>\n",
       "    <tr>\n",
       "      <th>0</th>\n",
       "      <td>1.473637</td>\n",
       "      <td>0.414773</td>\n",
       "      <td>-1.351873</td>\n",
       "      <td>0.386077</td>\n",
       "      <td>-1.108191</td>\n",
       "      <td>-0.472533</td>\n",
       "      <td>-0.472500</td>\n",
       "      <td>0</td>\n",
       "      <td>0</td>\n",
       "      <td>0</td>\n",
       "      <td>1</td>\n",
       "      <td>0</td>\n",
       "      <td>0</td>\n",
       "      <td>0</td>\n",
       "      <td>0</td>\n",
       "      <td>0</td>\n",
       "      <td>0</td>\n",
       "      <td>0</td>\n",
       "      <td>1</td>\n",
       "      <td>0</td>\n",
       "      <td>0</td>\n",
       "      <td>1</td>\n",
       "      <td>0</td>\n",
       "      <td>0</td>\n",
       "      <td>1</td>\n",
       "      <td>0</td>\n",
       "      <td>0</td>\n",
       "      <td>1</td>\n",
       "      <td>0</td>\n",
       "      <td>0</td>\n",
       "      <td>0</td>\n",
       "      <td>0</td>\n",
       "      <td>0</td>\n",
       "      <td>0</td>\n",
       "      <td>0</td>\n",
       "      <td>1</td>\n",
       "      <td>0</td>\n",
       "      <td>0</td>\n",
       "      <td>0</td>\n",
       "      <td>0</td>\n",
       "      <td>0</td>\n",
       "      <td>1</td>\n",
       "      <td>0</td>\n",
       "      <td>0</td>\n",
       "      <td>0</td>\n",
       "      <td>0</td>\n",
       "      <td>1</td>\n",
       "      <td>0</td>\n",
       "      <td>0</td>\n",
       "      <td>0</td>\n",
       "      <td>0</td>\n",
       "      <td>0</td>\n",
       "    </tr>\n",
       "    <tr>\n",
       "      <th>1</th>\n",
       "      <td>0.429379</td>\n",
       "      <td>-0.410774</td>\n",
       "      <td>-1.351873</td>\n",
       "      <td>-0.223033</td>\n",
       "      <td>-1.108191</td>\n",
       "      <td>-0.472533</td>\n",
       "      <td>-0.472500</td>\n",
       "      <td>0</td>\n",
       "      <td>0</td>\n",
       "      <td>0</td>\n",
       "      <td>0</td>\n",
       "      <td>0</td>\n",
       "      <td>0</td>\n",
       "      <td>0</td>\n",
       "      <td>0</td>\n",
       "      <td>1</td>\n",
       "      <td>0</td>\n",
       "      <td>0</td>\n",
       "      <td>0</td>\n",
       "      <td>1</td>\n",
       "      <td>1</td>\n",
       "      <td>0</td>\n",
       "      <td>0</td>\n",
       "      <td>0</td>\n",
       "      <td>1</td>\n",
       "      <td>0</td>\n",
       "      <td>0</td>\n",
       "      <td>1</td>\n",
       "      <td>0</td>\n",
       "      <td>0</td>\n",
       "      <td>0</td>\n",
       "      <td>0</td>\n",
       "      <td>0</td>\n",
       "      <td>0</td>\n",
       "      <td>0</td>\n",
       "      <td>1</td>\n",
       "      <td>0</td>\n",
       "      <td>0</td>\n",
       "      <td>0</td>\n",
       "      <td>0</td>\n",
       "      <td>0</td>\n",
       "      <td>1</td>\n",
       "      <td>0</td>\n",
       "      <td>0</td>\n",
       "      <td>0</td>\n",
       "      <td>1</td>\n",
       "      <td>0</td>\n",
       "      <td>0</td>\n",
       "      <td>0</td>\n",
       "      <td>0</td>\n",
       "      <td>0</td>\n",
       "      <td>0</td>\n",
       "    </tr>\n",
       "    <tr>\n",
       "      <th>2</th>\n",
       "      <td>-0.709873</td>\n",
       "      <td>-0.431122</td>\n",
       "      <td>-1.351873</td>\n",
       "      <td>-0.923854</td>\n",
       "      <td>-1.108191</td>\n",
       "      <td>-0.472533</td>\n",
       "      <td>-0.472500</td>\n",
       "      <td>0</td>\n",
       "      <td>1</td>\n",
       "      <td>0</td>\n",
       "      <td>0</td>\n",
       "      <td>0</td>\n",
       "      <td>0</td>\n",
       "      <td>0</td>\n",
       "      <td>0</td>\n",
       "      <td>0</td>\n",
       "      <td>0</td>\n",
       "      <td>0</td>\n",
       "      <td>1</td>\n",
       "      <td>0</td>\n",
       "      <td>1</td>\n",
       "      <td>0</td>\n",
       "      <td>0</td>\n",
       "      <td>0</td>\n",
       "      <td>1</td>\n",
       "      <td>1</td>\n",
       "      <td>0</td>\n",
       "      <td>1</td>\n",
       "      <td>0</td>\n",
       "      <td>0</td>\n",
       "      <td>0</td>\n",
       "      <td>0</td>\n",
       "      <td>0</td>\n",
       "      <td>0</td>\n",
       "      <td>0</td>\n",
       "      <td>1</td>\n",
       "      <td>0</td>\n",
       "      <td>0</td>\n",
       "      <td>0</td>\n",
       "      <td>0</td>\n",
       "      <td>0</td>\n",
       "      <td>1</td>\n",
       "      <td>0</td>\n",
       "      <td>0</td>\n",
       "      <td>1</td>\n",
       "      <td>0</td>\n",
       "      <td>0</td>\n",
       "      <td>0</td>\n",
       "      <td>0</td>\n",
       "      <td>0</td>\n",
       "      <td>0</td>\n",
       "      <td>0</td>\n",
       "    </tr>\n",
       "    <tr>\n",
       "      <th>3</th>\n",
       "      <td>0.683128</td>\n",
       "      <td>0.197685</td>\n",
       "      <td>-1.351873</td>\n",
       "      <td>-0.735678</td>\n",
       "      <td>-1.108191</td>\n",
       "      <td>-0.472533</td>\n",
       "      <td>-0.472500</td>\n",
       "      <td>1</td>\n",
       "      <td>0</td>\n",
       "      <td>0</td>\n",
       "      <td>0</td>\n",
       "      <td>0</td>\n",
       "      <td>0</td>\n",
       "      <td>0</td>\n",
       "      <td>0</td>\n",
       "      <td>0</td>\n",
       "      <td>0</td>\n",
       "      <td>0</td>\n",
       "      <td>1</td>\n",
       "      <td>0</td>\n",
       "      <td>0</td>\n",
       "      <td>0</td>\n",
       "      <td>1</td>\n",
       "      <td>0</td>\n",
       "      <td>1</td>\n",
       "      <td>0</td>\n",
       "      <td>0</td>\n",
       "      <td>1</td>\n",
       "      <td>0</td>\n",
       "      <td>0</td>\n",
       "      <td>0</td>\n",
       "      <td>0</td>\n",
       "      <td>0</td>\n",
       "      <td>0</td>\n",
       "      <td>0</td>\n",
       "      <td>1</td>\n",
       "      <td>0</td>\n",
       "      <td>0</td>\n",
       "      <td>0</td>\n",
       "      <td>0</td>\n",
       "      <td>0</td>\n",
       "      <td>1</td>\n",
       "      <td>0</td>\n",
       "      <td>0</td>\n",
       "      <td>0</td>\n",
       "      <td>1</td>\n",
       "      <td>0</td>\n",
       "      <td>0</td>\n",
       "      <td>0</td>\n",
       "      <td>0</td>\n",
       "      <td>0</td>\n",
       "      <td>0</td>\n",
       "    </tr>\n",
       "    <tr>\n",
       "      <th>4</th>\n",
       "      <td>-0.709873</td>\n",
       "      <td>-0.432119</td>\n",
       "      <td>-1.351873</td>\n",
       "      <td>0.072812</td>\n",
       "      <td>-1.108191</td>\n",
       "      <td>-0.472533</td>\n",
       "      <td>-0.472500</td>\n",
       "      <td>0</td>\n",
       "      <td>0</td>\n",
       "      <td>0</td>\n",
       "      <td>0</td>\n",
       "      <td>0</td>\n",
       "      <td>0</td>\n",
       "      <td>0</td>\n",
       "      <td>0</td>\n",
       "      <td>0</td>\n",
       "      <td>0</td>\n",
       "      <td>1</td>\n",
       "      <td>0</td>\n",
       "      <td>1</td>\n",
       "      <td>0</td>\n",
       "      <td>0</td>\n",
       "      <td>1</td>\n",
       "      <td>0</td>\n",
       "      <td>0</td>\n",
       "      <td>0</td>\n",
       "      <td>0</td>\n",
       "      <td>1</td>\n",
       "      <td>0</td>\n",
       "      <td>0</td>\n",
       "      <td>0</td>\n",
       "      <td>0</td>\n",
       "      <td>0</td>\n",
       "      <td>0</td>\n",
       "      <td>0</td>\n",
       "      <td>1</td>\n",
       "      <td>0</td>\n",
       "      <td>0</td>\n",
       "      <td>0</td>\n",
       "      <td>0</td>\n",
       "      <td>0</td>\n",
       "      <td>1</td>\n",
       "      <td>0</td>\n",
       "      <td>0</td>\n",
       "      <td>1</td>\n",
       "      <td>0</td>\n",
       "      <td>0</td>\n",
       "      <td>0</td>\n",
       "      <td>0</td>\n",
       "      <td>0</td>\n",
       "      <td>0</td>\n",
       "      <td>0</td>\n",
       "    </tr>\n",
       "  </tbody>\n",
       "</table>\n",
       "</div>"
      ],
      "text/plain": [
       "        age   balance       day  duration  campaign     pdays  previous  \\\n",
       "0  1.473637  0.414773 -1.351873  0.386077 -1.108191 -0.472533 -0.472500   \n",
       "1  0.429379 -0.410774 -1.351873 -0.223033 -1.108191 -0.472533 -0.472500   \n",
       "2 -0.709873 -0.431122 -1.351873 -0.923854 -1.108191 -0.472533 -0.472500   \n",
       "3  0.683128  0.197685 -1.351873 -0.735678 -1.108191 -0.472533 -0.472500   \n",
       "4 -0.709873 -0.432119 -1.351873  0.072812 -1.108191 -0.472533 -0.472500   \n",
       "\n",
       "   job_blue-collar  job_entrepreneur  job_housemaid  job_management  \\\n",
       "0                0                 0              0               1   \n",
       "1                0                 0              0               0   \n",
       "2                0                 1              0               0   \n",
       "3                1                 0              0               0   \n",
       "4                0                 0              0               0   \n",
       "\n",
       "   job_retired  job_self-employed  job_services  job_student  job_technician  \\\n",
       "0            0                  0             0            0               0   \n",
       "1            0                  0             0            0               1   \n",
       "2            0                  0             0            0               0   \n",
       "3            0                  0             0            0               0   \n",
       "4            0                  0             0            0               0   \n",
       "\n",
       "   job_unemployed  job_unknown  marital_married  marital_single  \\\n",
       "0               0            0                1               0   \n",
       "1               0            0                0               1   \n",
       "2               0            0                1               0   \n",
       "3               0            0                1               0   \n",
       "4               0            1                0               1   \n",
       "\n",
       "   education_secondary  education_tertiary  education_unknown  default_yes  \\\n",
       "0                    0                   1                  0            0   \n",
       "1                    1                   0                  0            0   \n",
       "2                    1                   0                  0            0   \n",
       "3                    0                   0                  1            0   \n",
       "4                    0                   0                  1            0   \n",
       "\n",
       "   housing_yes  loan_yes  contact_telephone  contact_unknown  month_aug  \\\n",
       "0            1         0                  0                1          0   \n",
       "1            1         0                  0                1          0   \n",
       "2            1         1                  0                1          0   \n",
       "3            1         0                  0                1          0   \n",
       "4            0         0                  0                1          0   \n",
       "\n",
       "   month_dec  month_feb  month_jan  month_jul  month_jun  month_mar  \\\n",
       "0          0          0          0          0          0          0   \n",
       "1          0          0          0          0          0          0   \n",
       "2          0          0          0          0          0          0   \n",
       "3          0          0          0          0          0          0   \n",
       "4          0          0          0          0          0          0   \n",
       "\n",
       "   month_may  month_nov  month_oct  month_sep  poutcome_other  \\\n",
       "0          1          0          0          0               0   \n",
       "1          1          0          0          0               0   \n",
       "2          1          0          0          0               0   \n",
       "3          1          0          0          0               0   \n",
       "4          1          0          0          0               0   \n",
       "\n",
       "   poutcome_success  poutcome_unknown  y_yes  age_group_19-25  \\\n",
       "0                 0                 1      0                0   \n",
       "1                 0                 1      0                0   \n",
       "2                 0                 1      0                0   \n",
       "3                 0                 1      0                0   \n",
       "4                 0                 1      0                0   \n",
       "\n",
       "   age_group_26-35  age_group_36-50  age_group_51-65  age_group_65+  \\\n",
       "0                0                0                1              0   \n",
       "1                0                1                0              0   \n",
       "2                1                0                0              0   \n",
       "3                0                1                0              0   \n",
       "4                1                0                0              0   \n",
       "\n",
       "   day_of_month_15-21  day_of_month_22-28  day_of_month_29-31  \\\n",
       "0                   0                   0                   0   \n",
       "1                   0                   0                   0   \n",
       "2                   0                   0                   0   \n",
       "3                   0                   0                   0   \n",
       "4                   0                   0                   0   \n",
       "\n",
       "   day_of_month_8-14  \n",
       "0                  0  \n",
       "1                  0  \n",
       "2                  0  \n",
       "3                  0  \n",
       "4                  0  "
      ]
     },
     "execution_count": 2,
     "metadata": {},
     "output_type": "execute_result"
    }
   ],
   "source": [
    "df = pd.read_csv('EDA_Marketing_Strategy.csv',index_col=0)\n",
    "df.head()"
   ]
  },
  {
   "cell_type": "code",
   "execution_count": 3,
   "id": "63e94570",
   "metadata": {},
   "outputs": [],
   "source": [
    "df.rename(columns={'y_yes': 'Target'} , inplace=True)"
   ]
  },
  {
   "cell_type": "code",
   "execution_count": 4,
   "id": "cda40146",
   "metadata": {},
   "outputs": [],
   "source": [
    "df.reset_index(inplace=True, drop=True)"
   ]
  },
  {
   "cell_type": "markdown",
   "id": "71890dfb",
   "metadata": {},
   "source": [
    "### Split the dependent and independent variables"
   ]
  },
  {
   "cell_type": "code",
   "execution_count": 5,
   "id": "521905e1",
   "metadata": {},
   "outputs": [],
   "source": [
    "# store the target variable 'Loan Status' in a dataframe 'df_target'\n",
    "df_target = df['Target']\n",
    "\n",
    "# store all the independent variables in a dataframe 'df_feature' \n",
    "# drop the column 'Loan Status' using drop()\n",
    "# 'axis = 1' drops the specified column\n",
    "df_features = df.drop('Target', axis = 1)"
   ]
  },
  {
   "cell_type": "code",
   "execution_count": 6,
   "id": "91280181",
   "metadata": {},
   "outputs": [
    {
     "data": {
      "text/plain": [
       "0    39922\n",
       "1     5289\n",
       "Name: Target, dtype: int64"
      ]
     },
     "execution_count": 6,
     "metadata": {},
     "output_type": "execute_result"
    }
   ],
   "source": [
    "df_target.value_counts()"
   ]
  },
  {
   "cell_type": "markdown",
   "id": "3e3a9cbe",
   "metadata": {},
   "source": [
    "## Train-Test Split"
   ]
  },
  {
   "cell_type": "markdown",
   "id": "db49db19",
   "metadata": {},
   "source": [
    "Before applying various classification techniques to predict the Churn, let us split the dataset in train and test set."
   ]
  },
  {
   "cell_type": "code",
   "execution_count": 7,
   "id": "d740ba83",
   "metadata": {},
   "outputs": [
    {
     "name": "stdout",
     "output_type": "stream",
     "text": [
      "x_train:  (31647, 51)\n",
      "y_train:  (31647,)\n",
      "x_test:  (13564, 51)\n",
      "y_test:  (13564,)\n"
     ]
    }
   ],
   "source": [
    "# split data into train subset and test subset\n",
    "# set 'random_state' to generate the same dataset each time you run the code \n",
    "# 'test_size' returns the proportion of data to be included in the testing set\n",
    "x_train, x_test ,y_train ,y_test = train_test_split(df_features,df_target, random_state=10, test_size=0.3)\n",
    "\n",
    "# check the dimensions of the train & test subset using 'shape'\n",
    "# print dimension of train set\n",
    "print('x_train: ',x_train.shape)\n",
    "print('y_train: ',y_train.shape)\n",
    "\n",
    "# print dimension of test set\n",
    "print('x_test: ',x_test.shape)\n",
    "print('y_test: ',y_test.shape)"
   ]
  },
  {
   "cell_type": "markdown",
   "id": "8395e8ab",
   "metadata": {},
   "source": [
    "#### Create a generalized function to create a dataframe containing the scores for the models."
   ]
  },
  {
   "cell_type": "code",
   "execution_count": 8,
   "id": "232e0d87",
   "metadata": {},
   "outputs": [],
   "source": [
    "# create an empty dataframe to store the scores for various algorithms\n",
    "score_card = pd.DataFrame(columns=['Probability Cutoff', 'AUC Score', 'Precision Score', 'Recall Score',\n",
    "                                       'Accuracy Score', 'Kappa Score', 'f1-score'])\n",
    "\n",
    "# append the result table for all performance scores\n",
    "# performance measures considered for model comparision are 'AUC Score', 'Precision Score', 'Recall Score','Accuracy Score',\n",
    "# 'Kappa Score', and 'f1-score'\n",
    "# compile the required information in a user defined function \n",
    "def update_score_card(model, cutoff):\n",
    "    \n",
    "    # let 'y_pred_prob' be the predicted values of y\n",
    "    y_pred_prob = logreg.predict(x_test)\n",
    "\n",
    "    # convert probabilities to 0 and 1 using 'if_else'\n",
    "    y_pred = [ 0 if x < cutoff else 1 for x in y_pred_prob]\n",
    "    \n",
    "    # assign 'score_card' as global variable\n",
    "    global score_card\n",
    "\n",
    "    # append the results to the dataframe 'score_card'\n",
    "    # 'ignore_index = True' do not consider the index labels\n",
    "    score_card = score_card.append({'Probability Cutoff': cutoff,\n",
    "                                    'AUC Score' : metrics.roc_auc_score(y_test, y_pred_prob),\n",
    "                                    'Precision Score': metrics.precision_score(y_test, y_pred),\n",
    "                                    'Recall Score': metrics.recall_score(y_test, y_pred),\n",
    "                                    'Accuracy Score': metrics.accuracy_score(y_test, y_pred),\n",
    "                                    'Kappa Score':metrics.cohen_kappa_score(y_test, y_pred),\n",
    "                                    'f1-score': metrics.f1_score(y_test, y_pred)}, \n",
    "                                    ignore_index = True)"
   ]
  },
  {
   "cell_type": "markdown",
   "id": "52151a39",
   "metadata": {},
   "source": [
    "## Logistic Regression (Full Model)"
   ]
  },
  {
   "cell_type": "markdown",
   "id": "fa685721",
   "metadata": {},
   "source": [
    "#### Build a full logistic model on a training dataset"
   ]
  },
  {
   "cell_type": "code",
   "execution_count": 9,
   "id": "4c70b33f",
   "metadata": {},
   "outputs": [
    {
     "name": "stdout",
     "output_type": "stream",
     "text": [
      "Optimization terminated successfully.\n",
      "         Current function value: 0.227387\n",
      "         Iterations 8\n",
      "                           Logit Regression Results                           \n",
      "==============================================================================\n",
      "Dep. Variable:                 Target   No. Observations:                31647\n",
      "Model:                          Logit   Df Residuals:                    31596\n",
      "Method:                           MLE   Df Model:                           50\n",
      "Date:                Wed, 21 Jun 2023   Pseudo R-squ.:                  0.3731\n",
      "Time:                        10:34:36   Log-Likelihood:                -7196.1\n",
      "converged:                       True   LL-Null:                       -11479.\n",
      "Covariance Type:            nonrobust   LLR p-value:                     0.000\n",
      "=======================================================================================\n",
      "                          coef    std err          z      P>|z|      [0.025      0.975]\n",
      "---------------------------------------------------------------------------------------\n",
      "age                    -0.0384      0.065     -0.589      0.556      -0.166       0.089\n",
      "balance                 0.0813      0.021      3.858      0.000       0.040       0.123\n",
      "day                    -0.1044      0.093     -1.126      0.260      -0.286       0.077\n",
      "duration                1.5874      0.028     56.911      0.000       1.533       1.642\n",
      "campaign               -0.1825      0.025     -7.401      0.000      -0.231      -0.134\n",
      "pdays                  -1.0701      0.476     -2.250      0.024      -2.002      -0.138\n",
      "previous                1.0323      0.473      2.182      0.029       0.105       1.960\n",
      "job_blue-collar        -0.3050      0.086     -3.537      0.000      -0.474      -0.136\n",
      "job_entrepreneur       -0.4534      0.153     -2.966      0.003      -0.753      -0.154\n",
      "job_housemaid          -0.5010      0.159     -3.147      0.002      -0.813      -0.189\n",
      "job_management         -0.2859      0.089     -3.200      0.001      -0.461      -0.111\n",
      "job_retired            -0.1055      0.128     -0.823      0.411      -0.357       0.146\n",
      "job_self-employed      -0.4043      0.137     -2.953      0.003      -0.673      -0.136\n",
      "job_services           -0.3024      0.101     -2.991      0.003      -0.501      -0.104\n",
      "job_student             0.1681      0.139      1.208      0.227      -0.105       0.441\n",
      "job_technician         -0.1990      0.083     -2.403      0.016      -0.361      -0.037\n",
      "job_unemployed         -0.3250      0.139     -2.343      0.019      -0.597      -0.053\n",
      "job_unknown            -0.6908      0.289     -2.391      0.017      -1.257      -0.125\n",
      "marital_married        -0.2521      0.070     -3.577      0.000      -0.390      -0.114\n",
      "marital_single         -0.0325      0.082     -0.399      0.690      -0.192       0.127\n",
      "education_secondary     0.1809      0.078      2.328      0.020       0.029       0.333\n",
      "education_tertiary      0.4298      0.091      4.739      0.000       0.252       0.607\n",
      "education_unknown       0.2548      0.128      1.989      0.047       0.004       0.506\n",
      "default_yes             0.0222      0.200      0.111      0.912      -0.370       0.415\n",
      "housing_yes            -0.6273      0.052    -11.953      0.000      -0.730      -0.524\n",
      "loan_yes               -0.4086      0.071     -5.735      0.000      -0.548      -0.269\n",
      "contact_telephone      -0.1956      0.093     -2.099      0.036      -0.378      -0.013\n",
      "contact_unknown        -1.5043      0.086    -17.406      0.000      -1.674      -1.335\n",
      "month_aug              -0.5825      0.098     -5.958      0.000      -0.774      -0.391\n",
      "month_dec               0.7560      0.226      3.351      0.001       0.314       1.198\n",
      "month_feb              -0.0681      0.113     -0.605      0.545      -0.289       0.153\n",
      "month_jan              -1.3107      0.152     -8.626      0.000      -1.608      -1.013\n",
      "month_jul              -0.8195      0.094     -8.716      0.000      -1.004      -0.635\n",
      "month_jun               0.5167      0.114      4.518      0.000       0.293       0.741\n",
      "month_mar               1.7096      0.153     11.203      0.000       1.411       2.009\n",
      "month_may              -0.4712      0.090     -5.246      0.000      -0.647      -0.295\n",
      "month_nov              -0.5101      0.104     -4.916      0.000      -0.713      -0.307\n",
      "month_oct               0.9978      0.137      7.260      0.000       0.728       1.267\n",
      "month_sep               0.7865      0.154      5.117      0.000       0.485       1.088\n",
      "poutcome_other          0.2294      0.110      2.082      0.037       0.013       0.445\n",
      "poutcome_success        2.2493      0.100     22.461      0.000       2.053       2.446\n",
      "poutcome_unknown       -0.2124      0.795     -0.267      0.789      -1.770       1.345\n",
      "age_group_19-25        -1.4883      0.626     -2.376      0.017      -2.716      -0.261\n",
      "age_group_26-35        -2.0683      0.629     -3.289      0.001      -3.301      -0.836\n",
      "age_group_36-50        -2.1755      0.643     -3.381      0.001      -3.437      -0.914\n",
      "age_group_51-65        -1.9903      0.664     -2.998      0.003      -3.292      -0.689\n",
      "age_group_65+          -1.5330      0.697     -2.198      0.028      -2.900      -0.166\n",
      "day_of_month_15-21      0.1394      0.175      0.797      0.426      -0.204       0.483\n",
      "day_of_month_22-28      0.6542      0.244      2.684      0.007       0.176       1.132\n",
      "day_of_month_29-31      0.6207      0.291      2.130      0.033       0.050       1.192\n",
      "day_of_month_8-14       0.4217      0.108      3.910      0.000       0.210       0.633\n",
      "=======================================================================================\n"
     ]
    }
   ],
   "source": [
    "# build the model on train data (x_train and y_train)\n",
    "# use fit() to fit the logistic regression model\n",
    "logreg = sm.Logit(y_train,x_train).fit()\n",
    "/\n",
    "# print the summary of the model\n",
    "print(logreg.summary())"
   ]
  },
  {
   "cell_type": "markdown",
   "id": "97cd4686",
   "metadata": {},
   "source": [
    "**Interpretation:** The `Pseudo R-squ.` obtained from the above model summary is the value of `McFadden's R-squared`. This value can be obtained from the formula:\n",
    "\n",
    "<p style='text-indent:25em'> <strong> McFadden's R-squared = $ 1 - \\frac{Log-Likelihood}{LL-Null} $</strong> </p>\n",
    "\n",
    "Where,<br>\n",
    "Log-Likelihood: It is the maximum value of the log-likelihood function<br>\n",
    "LL-Null: It is the maximum value of the log-likelihood function for the model containing only the intercept \n",
    "\n",
    "The LLR p-value is less than 0.05, implies that the `model is significant`."
   ]
  },
  {
   "cell_type": "markdown",
   "id": "18770244",
   "metadata": {},
   "source": [
    "There are different types of `pseudo R-squared` such as `Cox & Snell R-squared`.\n",
    "\n",
    "**Cox & Snell R-squared:** The convergence of the logistic model can be determined by the R-squared value. It is given by the formula:\n",
    "\n",
    "<p style='text-indent:25em'> <strong> Cox & Snell R-squared = $ 1 - (\\frac{L(M_{Intercept})}{L(M_{Full})})^{2/N} $</strong> </p>\n",
    "\n",
    "Where,<br> \n",
    "L(M): The conditional probability of target variable given the independent variables<br>\n",
    "N: Total number of observations\n",
    "\n",
    "**Note:** The maximum of Cox & Snell R-squared is always less than 1. By above model Cox & Snell R-squared is less than 1\n",
    "i.e (0.03456).\n"
   ]
  },
  {
   "cell_type": "markdown",
   "id": "f5b614d5",
   "metadata": {},
   "source": [
    "#### Calculate the AIC (Akaike Information Criterion) value."
   ]
  },
  {
   "cell_type": "markdown",
   "id": "988736fe",
   "metadata": {},
   "source": [
    "It is a relative measure of model evaluation. It gives a trade-off between model accuracy and model complexity."
   ]
  },
  {
   "cell_type": "code",
   "execution_count": 10,
   "id": "e5411c41",
   "metadata": {},
   "outputs": [
    {
     "name": "stdout",
     "output_type": "stream",
     "text": [
      "AIC: 14494.243193592778\n"
     ]
    }
   ],
   "source": [
    "# 'aic' retuns the AIC value for the model\n",
    "print('AIC:', logreg.aic)"
   ]
  },
  {
   "cell_type": "markdown",
   "id": "31511bcc",
   "metadata": {},
   "source": [
    "### Interpret the odds for each variable"
   ]
  },
  {
   "cell_type": "code",
   "execution_count": 11,
   "id": "5fb10ed3",
   "metadata": {},
   "outputs": [
    {
     "data": {
      "text/html": [
       "<div>\n",
       "<style scoped>\n",
       "    .dataframe tbody tr th:only-of-type {\n",
       "        vertical-align: middle;\n",
       "    }\n",
       "\n",
       "    .dataframe tbody tr th {\n",
       "        vertical-align: top;\n",
       "    }\n",
       "\n",
       "    .dataframe thead th {\n",
       "        text-align: right;\n",
       "    }\n",
       "</style>\n",
       "<table border=\"1\" class=\"dataframe\">\n",
       "  <thead>\n",
       "    <tr style=\"text-align: right;\">\n",
       "      <th></th>\n",
       "      <th>Odds</th>\n",
       "    </tr>\n",
       "  </thead>\n",
       "  <tbody>\n",
       "    <tr>\n",
       "      <th>age</th>\n",
       "      <td>0.962289</td>\n",
       "    </tr>\n",
       "    <tr>\n",
       "      <th>balance</th>\n",
       "      <td>1.084706</td>\n",
       "    </tr>\n",
       "    <tr>\n",
       "      <th>day</th>\n",
       "      <td>0.900840</td>\n",
       "    </tr>\n",
       "    <tr>\n",
       "      <th>duration</th>\n",
       "      <td>4.890931</td>\n",
       "    </tr>\n",
       "    <tr>\n",
       "      <th>campaign</th>\n",
       "      <td>0.833167</td>\n",
       "    </tr>\n",
       "  </tbody>\n",
       "</table>\n",
       "</div>"
      ],
      "text/plain": [
       "             Odds\n",
       "age      0.962289\n",
       "balance  1.084706\n",
       "day      0.900840\n",
       "duration 4.890931\n",
       "campaign 0.833167"
      ]
     },
     "execution_count": 11,
     "metadata": {},
     "output_type": "execute_result"
    }
   ],
   "source": [
    "# take the exponential of the coefficient of a variable to calculate the odds\n",
    "# 'params' returns the coefficients of all the independent variables\n",
    "# pass the required column name to the parameter, 'columns'\n",
    "df_odds = pd.DataFrame(np.exp(logreg.params), columns= ['Odds']) \n",
    "\n",
    "# print the dataframe\n",
    "df_odds.head()"
   ]
  },
  {
   "cell_type": "markdown",
   "id": "574da11b",
   "metadata": {},
   "source": [
    "Since the target variable can take only two values either 0 or 1. We decide the cut-off of 0.5. i.e. if 'y_pred_prob' is less than 0.5, then consider it to be 0 else consider it to be 1"
   ]
  },
  {
   "cell_type": "markdown",
   "id": "33d1d058",
   "metadata": {},
   "source": [
    "### Do predictions on the test set."
   ]
  },
  {
   "cell_type": "code",
   "execution_count": 12,
   "id": "bc8a5ef1",
   "metadata": {},
   "outputs": [
    {
     "data": {
      "text/plain": [
       "4393    0.022641\n",
       "4438    0.002101\n",
       "11108   0.378771\n",
       "35421   0.045843\n",
       "2667    0.052195\n",
       "dtype: float64"
      ]
     },
     "execution_count": 12,
     "metadata": {},
     "output_type": "execute_result"
    }
   ],
   "source": [
    "# let 'y_pred_prob' be the predicted values of y\n",
    "y_pred_prob = logreg.predict(x_test)\n",
    "\n",
    "# print the y_pred_prob\n",
    "y_pred_prob.head()"
   ]
  },
  {
   "cell_type": "markdown",
   "id": "d40938ad",
   "metadata": {},
   "source": [
    "Since the target variable can take only two values either 0 or 1. We decide the cut-off of 0.5. i.e. if 'y_pred_prob' is less than 0.5, then consider it to be 0 else consider it to be 1."
   ]
  },
  {
   "cell_type": "code",
   "execution_count": 13,
   "id": "1ef591ee",
   "metadata": {},
   "outputs": [],
   "source": [
    "# convert probabilities to 0 and 1 using 'if_else'\n",
    "y_pred = [ 0 if x < 0.5 else 1 for x in y_pred_prob]"
   ]
  },
  {
   "cell_type": "code",
   "execution_count": 14,
   "id": "49edd814",
   "metadata": {},
   "outputs": [
    {
     "data": {
      "text/plain": [
       "[0, 0, 0, 0, 0]"
      ]
     },
     "execution_count": 14,
     "metadata": {},
     "output_type": "execute_result"
    }
   ],
   "source": [
    "# print the first five observations of y_pred\n",
    "y_pred[0:5]"
   ]
  },
  {
   "cell_type": "markdown",
   "id": "a40b6f4b",
   "metadata": {},
   "source": [
    "### Plot the confusion matrix."
   ]
  },
  {
   "cell_type": "code",
   "execution_count": 15,
   "id": "01a63204",
   "metadata": {},
   "outputs": [
    {
     "data": {
      "image/png": "[encoded data removed]",
      "text/plain": [
       "<Figure size 1080x576 with 1 Axes>"
      ]
     },
     "metadata": {
      "needs_background": "light"
     },
     "output_type": "display_data"
    }
   ],
   "source": [
    "# create a confusion matrix\n",
    "# pass the actual and predicted target values to the confusion_matrix()\n",
    "cm = confusion_matrix(y_test, y_pred)\n",
    "\n",
    "# label the confusion matrix  \n",
    "# pass the matrix as 'data'\n",
    "# pass the required column names to the parameter, 'columns'\n",
    "# pass the required row names to the parameter, 'index'\n",
    "conf_matrix = pd.DataFrame(data = cm,columns = ['Predicted:0','Predicted:1'], index = ['Actual:0','Actual:1'])\n",
    "\n",
    "# plot a heatmap to visualize the confusion matrix\n",
    "# 'annot' prints the value of each grid \n",
    "# 'fmt = d' returns the integer value in each grid\n",
    "# 'cmap' assigns color to each grid\n",
    "# as we do not require different colors for each grid in the heatmap,\n",
    "# use 'ListedColormap' to assign the specified color to the grid\n",
    "# 'cbar = False' will not return the color bar to the right side of the heatmap\n",
    "# 'linewidths' assigns the width to the line that divides each grid\n",
    "# 'annot_kws = {'size':25})' assigns the font size of the annotated text \n",
    "sns.heatmap(conf_matrix, annot = True, fmt = 'd', cmap = ListedColormap(['lightskyblue']), cbar = False, \n",
    "            linewidths = 0.1, annot_kws = {'size':25})\n",
    "\n",
    "# set the font size of x-axis ticks using 'fontsize'\n",
    "plt.xticks(fontsize = 20)\n",
    "\n",
    "# set the font size of y-axis ticks using 'fontsize'\n",
    "plt.yticks(fontsize = 20)\n",
    "\n",
    "# display the plot\n",
    "plt.show()"
   ]
  },
  {
   "cell_type": "code",
   "execution_count": 16,
   "id": "76b23a4a",
   "metadata": {},
   "outputs": [
    {
     "name": "stdout",
     "output_type": "stream",
     "text": [
      "              precision    recall  f1-score   support\n",
      "\n",
      "           0       0.92      0.97      0.95     12006\n",
      "           1       0.65      0.37      0.47      1558\n",
      "\n",
      "    accuracy                           0.90     13564\n",
      "   macro avg       0.79      0.67      0.71     13564\n",
      "weighted avg       0.89      0.90      0.89     13564\n",
      "\n"
     ]
    }
   ],
   "source": [
    "# calculate various performance measures\n",
    "acc_table = classification_report(y_test, y_pred)\n",
    "\n",
    "# print the table\n",
    "print(acc_table)"
   ]
  },
  {
   "cell_type": "markdown",
   "id": "37d69e0c",
   "metadata": {},
   "source": [
    "**Interpretation:** \n",
    "\n",
    "From the above output, we can infer that the recall of the positive class is known as `sensitivity` and the recall of the negative class is `specificity`.\n",
    "\n",
    "`support` is the number of observations in the corresponding class.\n",
    "\n",
    "The `macro average` in the output is obtained by averaging the unweighted mean per label and the `weighted average` is given by averaging the support-weighted mean per label."
   ]
  },
  {
   "cell_type": "markdown",
   "id": "39de46bd",
   "metadata": {},
   "source": [
    "### Kappa score"
   ]
  },
  {
   "cell_type": "markdown",
   "id": "410cf051",
   "metadata": {},
   "source": [
    "It is a measure of inter-rater reliability. For logistic regression, the actual and predicted values of the target variable are the raters."
   ]
  },
  {
   "cell_type": "code",
   "execution_count": 17,
   "id": "32c9d177",
   "metadata": {},
   "outputs": [
    {
     "name": "stdout",
     "output_type": "stream",
     "text": [
      "kappa value: 0.42259001220999304\n"
     ]
    }
   ],
   "source": [
    "# compute the kappa value\n",
    "kappa = cohen_kappa_score(y_test, y_pred)\n",
    "\n",
    "# print the kappa value\n",
    "print('kappa value:',kappa)"
   ]
  },
  {
   "cell_type": "markdown",
   "id": "5b28aca4",
   "metadata": {},
   "source": [
    "**Interpretation:** As the kappa score for the full model (with cut-off probability 0.5) is 0.0309, we can say that there is substantial agreement between the actual and predicted values."
   ]
  },
  {
   "cell_type": "markdown",
   "id": "6f889c80",
   "metadata": {},
   "source": [
    "### Plot the ROC curve"
   ]
  },
  {
   "cell_type": "markdown",
   "id": "333d512f",
   "metadata": {},
   "source": [
    "ROC curve is plotted with the true positive rate (tpr) on the y-axis and false positive rate (fpr) on the x-axis. The area under this curve is used as a measure of separability of the model."
   ]
  },
  {
   "cell_type": "code",
   "execution_count": 18,
   "id": "a9579e5e",
   "metadata": {},
   "outputs": [
    {
     "data": {
      "image/png": "[encoded data removed]",
      "text/plain": [
       "<Figure size 1080x576 with 1 Axes>"
      ]
     },
     "metadata": {
      "needs_background": "light"
     },
     "output_type": "display_data"
    }
   ],
   "source": [
    "# the roc_curve() returns the values for false positive rate, true positive rate and threshold\n",
    "# pass the actual target values and predicted probabilities to the function\n",
    "fpr, tpr, thresholds = roc_curve(y_test, y_pred_prob)\n",
    "\n",
    "# plot the ROC curve\n",
    "plt.plot(fpr, tpr)\n",
    "\n",
    "# set limits for x and y axes\n",
    "plt.xlim([0.0, 1.0])\n",
    "plt.ylim([0.0, 1.0])\n",
    "\n",
    "# plot the straight line showing worst prediction for the model\n",
    "plt.plot([0, 1], [0, 1],'r--')\n",
    "\n",
    "# add plot and axes labels\n",
    "# set text size using 'fontsize'\n",
    "plt.title('ROC curve for Telecom Churn Classifier (Full Model)', fontsize = 15)\n",
    "plt.xlabel('False positive rate (1-Specificity)', fontsize = 15)\n",
    "plt.ylabel('True positive rate (Sensitivity)', fontsize = 15)\n",
    "\n",
    "# add the AUC score to the plot\n",
    "# 'x' and 'y' gives position of the text\n",
    "# 's' is the text \n",
    "# use round() to round-off the AUC score upto 4 digits\n",
    "plt.text(x = 0.02, y = 0.9, s = ('AUC Score:', round(metrics.roc_auc_score(y_test, y_pred_prob),4)))\n",
    "                               \n",
    "# plot the grid\n",
    "plt.grid(True)"
   ]
  },
  {
   "cell_type": "markdown",
   "id": "a85c434b",
   "metadata": {},
   "source": [
    "### Interpretation: \n",
    "The red dotted line represents the ROC curve of a purely random classifier; a good classifier stays as far away from that line as possible (toward the top-left corner).\n",
    "From the above plot, we can see that our classifier (logistic regression) is away from the dotted line; with the AUC score 0.9125."
   ]
  },
  {
   "cell_type": "code",
   "execution_count": 19,
   "id": "3116e4dd",
   "metadata": {},
   "outputs": [
    {
     "data": {
      "text/plain": [
       "0.9045266882925391"
      ]
     },
     "execution_count": 19,
     "metadata": {},
     "output_type": "execute_result"
    }
   ],
   "source": [
    "metrics.accuracy_score(y_test, y_pred)"
   ]
  },
  {
   "cell_type": "code",
   "execution_count": 20,
   "id": "d6b74744",
   "metadata": {},
   "outputs": [],
   "source": [
    "# consider a list of values for cut-off\n",
    "cutoff = [0.1, 0.2, 0.3, 0.4, 0.5, 0.6, 0.7, 0.8, 0.9]\n",
    "\n",
    "# use the for loop to compute performance measures for each value of the cut-off\n",
    "# call the update_score_card() to update the score card for each cut-off\n",
    "# pass the model and cut-off value to the function\n",
    "for value in cutoff:\n",
    "    update_score_card(logreg, value)"
   ]
  },
  {
   "cell_type": "code",
   "execution_count": 21,
   "id": "caa61dcd",
   "metadata": {},
   "outputs": [
    {
     "name": "stdout",
     "output_type": "stream",
     "text": [
      "Score Card for Logistic regression:\n"
     ]
    },
    {
     "data": {
      "text/html": [
       "<style type=\"text/css\">\n",
       "#T_0f68a_row0_col1, #T_0f68a_row1_col1, #T_0f68a_row2_col1, #T_0f68a_row2_col5, #T_0f68a_row2_col6, #T_0f68a_row3_col1, #T_0f68a_row3_col4, #T_0f68a_row4_col1, #T_0f68a_row5_col1, #T_0f68a_row6_col1, #T_0f68a_row7_col1, #T_0f68a_row8_col1 {\n",
       "  background-color: lightblue;\n",
       "}\n",
       "</style>\n",
       "<table id=\"T_0f68a\">\n",
       "  <thead>\n",
       "    <tr>\n",
       "      <th class=\"blank level0\" >&nbsp;</th>\n",
       "      <th id=\"T_0f68a_level0_col0\" class=\"col_heading level0 col0\" >Probability Cutoff</th>\n",
       "      <th id=\"T_0f68a_level0_col1\" class=\"col_heading level0 col1\" >AUC Score</th>\n",
       "      <th id=\"T_0f68a_level0_col2\" class=\"col_heading level0 col2\" >Precision Score</th>\n",
       "      <th id=\"T_0f68a_level0_col3\" class=\"col_heading level0 col3\" >Recall Score</th>\n",
       "      <th id=\"T_0f68a_level0_col4\" class=\"col_heading level0 col4\" >Accuracy Score</th>\n",
       "      <th id=\"T_0f68a_level0_col5\" class=\"col_heading level0 col5\" >Kappa Score</th>\n",
       "      <th id=\"T_0f68a_level0_col6\" class=\"col_heading level0 col6\" >f1-score</th>\n",
       "    </tr>\n",
       "  </thead>\n",
       "  <tbody>\n",
       "    <tr>\n",
       "      <th id=\"T_0f68a_level0_row0\" class=\"row_heading level0 row0\" >0</th>\n",
       "      <td id=\"T_0f68a_row0_col0\" class=\"data row0 col0\" >0.100000</td>\n",
       "      <td id=\"T_0f68a_row0_col1\" class=\"data row0 col1\" >0.912488</td>\n",
       "      <td id=\"T_0f68a_row0_col2\" class=\"data row0 col2\" >0.354280</td>\n",
       "      <td id=\"T_0f68a_row0_col3\" class=\"data row0 col3\" >0.879332</td>\n",
       "      <td id=\"T_0f68a_row0_col4\" class=\"data row0 col4\" >0.802050</td>\n",
       "      <td id=\"T_0f68a_row0_col5\" class=\"data row0 col5\" >0.408154</td>\n",
       "      <td id=\"T_0f68a_row0_col6\" class=\"data row0 col6\" >0.505069</td>\n",
       "    </tr>\n",
       "    <tr>\n",
       "      <th id=\"T_0f68a_level0_row1\" class=\"row_heading level0 row1\" >1</th>\n",
       "      <td id=\"T_0f68a_row1_col0\" class=\"data row1 col0\" >0.200000</td>\n",
       "      <td id=\"T_0f68a_row1_col1\" class=\"data row1 col1\" >0.912488</td>\n",
       "      <td id=\"T_0f68a_row1_col2\" class=\"data row1 col2\" >0.470960</td>\n",
       "      <td id=\"T_0f68a_row1_col3\" class=\"data row1 col3\" >0.718228</td>\n",
       "      <td id=\"T_0f68a_row1_col4\" class=\"data row1 col4\" >0.874963</td>\n",
       "      <td id=\"T_0f68a_row1_col5\" class=\"data row1 col5\" >0.499435</td>\n",
       "      <td id=\"T_0f68a_row1_col6\" class=\"data row1 col6\" >0.568887</td>\n",
       "    </tr>\n",
       "    <tr>\n",
       "      <th id=\"T_0f68a_level0_row2\" class=\"row_heading level0 row2\" >2</th>\n",
       "      <td id=\"T_0f68a_row2_col0\" class=\"data row2 col0\" >0.300000</td>\n",
       "      <td id=\"T_0f68a_row2_col1\" class=\"data row2 col1\" >0.912488</td>\n",
       "      <td id=\"T_0f68a_row2_col2\" class=\"data row2 col2\" >0.556220</td>\n",
       "      <td id=\"T_0f68a_row2_col3\" class=\"data row2 col3\" >0.596919</td>\n",
       "      <td id=\"T_0f68a_row2_col4\" class=\"data row2 col4\" >0.898997</td>\n",
       "      <td id=\"T_0f68a_row2_col5\" class=\"data row2 col5\" >0.518605</td>\n",
       "      <td id=\"T_0f68a_row2_col6\" class=\"data row2 col6\" >0.575851</td>\n",
       "    </tr>\n",
       "    <tr>\n",
       "      <th id=\"T_0f68a_level0_row3\" class=\"row_heading level0 row3\" >3</th>\n",
       "      <td id=\"T_0f68a_row3_col0\" class=\"data row3 col0\" >0.400000</td>\n",
       "      <td id=\"T_0f68a_row3_col1\" class=\"data row3 col1\" >0.912488</td>\n",
       "      <td id=\"T_0f68a_row3_col2\" class=\"data row3 col2\" >0.622517</td>\n",
       "      <td id=\"T_0f68a_row3_col3\" class=\"data row3 col3\" >0.482670</td>\n",
       "      <td id=\"T_0f68a_row3_col4\" class=\"data row3 col4\" >0.906960</td>\n",
       "      <td id=\"T_0f68a_row3_col5\" class=\"data row3 col5\" >0.492865</td>\n",
       "      <td id=\"T_0f68a_row3_col6\" class=\"data row3 col6\" >0.543745</td>\n",
       "    </tr>\n",
       "    <tr>\n",
       "      <th id=\"T_0f68a_level0_row4\" class=\"row_heading level0 row4\" >4</th>\n",
       "      <td id=\"T_0f68a_row4_col0\" class=\"data row4 col0\" >0.500000</td>\n",
       "      <td id=\"T_0f68a_row4_col1\" class=\"data row4 col1\" >0.912488</td>\n",
       "      <td id=\"T_0f68a_row4_col2\" class=\"data row4 col2\" >0.647919</td>\n",
       "      <td id=\"T_0f68a_row4_col3\" class=\"data row4 col3\" >0.369705</td>\n",
       "      <td id=\"T_0f68a_row4_col4\" class=\"data row4 col4\" >0.904527</td>\n",
       "      <td id=\"T_0f68a_row4_col5\" class=\"data row4 col5\" >0.422590</td>\n",
       "      <td id=\"T_0f68a_row4_col6\" class=\"data row4 col6\" >0.470781</td>\n",
       "    </tr>\n",
       "    <tr>\n",
       "      <th id=\"T_0f68a_level0_row5\" class=\"row_heading level0 row5\" >5</th>\n",
       "      <td id=\"T_0f68a_row5_col0\" class=\"data row5 col0\" >0.600000</td>\n",
       "      <td id=\"T_0f68a_row5_col1\" class=\"data row5 col1\" >0.912488</td>\n",
       "      <td id=\"T_0f68a_row5_col2\" class=\"data row5 col2\" >0.704160</td>\n",
       "      <td id=\"T_0f68a_row5_col3\" class=\"data row5 col3\" >0.293325</td>\n",
       "      <td id=\"T_0f68a_row5_col4\" class=\"data row5 col4\" >0.904674</td>\n",
       "      <td id=\"T_0f68a_row5_col5\" class=\"data row5 col5\" >0.371692</td>\n",
       "      <td id=\"T_0f68a_row5_col6\" class=\"data row5 col6\" >0.414137</td>\n",
       "    </tr>\n",
       "    <tr>\n",
       "      <th id=\"T_0f68a_level0_row6\" class=\"row_heading level0 row6\" >6</th>\n",
       "      <td id=\"T_0f68a_row6_col0\" class=\"data row6 col0\" >0.700000</td>\n",
       "      <td id=\"T_0f68a_row6_col1\" class=\"data row6 col1\" >0.912488</td>\n",
       "      <td id=\"T_0f68a_row6_col2\" class=\"data row6 col2\" >0.727069</td>\n",
       "      <td id=\"T_0f68a_row6_col3\" class=\"data row6 col3\" >0.208601</td>\n",
       "      <td id=\"T_0f68a_row6_col4\" class=\"data row6 col4\" >0.900103</td>\n",
       "      <td id=\"T_0f68a_row6_col5\" class=\"data row6 col5\" >0.287709</td>\n",
       "      <td id=\"T_0f68a_row6_col6\" class=\"data row6 col6\" >0.324190</td>\n",
       "    </tr>\n",
       "    <tr>\n",
       "      <th id=\"T_0f68a_level0_row7\" class=\"row_heading level0 row7\" >7</th>\n",
       "      <td id=\"T_0f68a_row7_col0\" class=\"data row7 col0\" >0.800000</td>\n",
       "      <td id=\"T_0f68a_row7_col1\" class=\"data row7 col1\" >0.912488</td>\n",
       "      <td id=\"T_0f68a_row7_col2\" class=\"data row7 col2\" >0.758007</td>\n",
       "      <td id=\"T_0f68a_row7_col3\" class=\"data row7 col3\" >0.136714</td>\n",
       "      <td id=\"T_0f68a_row7_col4\" class=\"data row7 col4\" >0.895827</td>\n",
       "      <td id=\"T_0f68a_row7_col5\" class=\"data row7 col5\" >0.203696</td>\n",
       "      <td id=\"T_0f68a_row7_col6\" class=\"data row7 col6\" >0.231648</td>\n",
       "    </tr>\n",
       "    <tr>\n",
       "      <th id=\"T_0f68a_level0_row8\" class=\"row_heading level0 row8\" >8</th>\n",
       "      <td id=\"T_0f68a_row8_col0\" class=\"data row8 col0\" >0.900000</td>\n",
       "      <td id=\"T_0f68a_row8_col1\" class=\"data row8 col1\" >0.912488</td>\n",
       "      <td id=\"T_0f68a_row8_col2\" class=\"data row8 col2\" >0.805970</td>\n",
       "      <td id=\"T_0f68a_row8_col3\" class=\"data row8 col3\" >0.069320</td>\n",
       "      <td id=\"T_0f68a_row8_col4\" class=\"data row8 col4\" >0.891183</td>\n",
       "      <td id=\"T_0f68a_row8_col5\" class=\"data row8 col5\" >0.111495</td>\n",
       "      <td id=\"T_0f68a_row8_col6\" class=\"data row8 col6\" >0.127660</td>\n",
       "    </tr>\n",
       "  </tbody>\n",
       "</table>\n"
      ],
      "text/plain": [
       "<pandas.io.formats.style.Styler at 0x1dd33d3e310>"
      ]
     },
     "execution_count": 21,
     "metadata": {},
     "output_type": "execute_result"
    }
   ],
   "source": [
    "# print the score card \n",
    "print('Score Card for Logistic regression:')\n",
    "\n",
    "# sort the dataframe based on the probability cut-off values ascending order\n",
    "# 'reset_index' resets the index of the dataframe\n",
    "# 'drop = True' drops the previous index\n",
    "score_card = score_card.sort_values('Probability Cutoff').reset_index(drop = True)\n",
    "\n",
    "# color the cell in the columns 'AUC Score', 'Accuracy Score', 'Kappa Score', 'f1-score' having maximum values\n",
    "# 'style.highlight_max' assigns color to the maximum value\n",
    "# pass specified color to the parameter, 'color'\n",
    "# pass the data to limit the color assignment to the parameter, 'subset' \n",
    "score_card.style.highlight_max(color = 'lightblue', subset = ['AUC Score', 'Accuracy Score', 'Kappa Score', 'f1-score'])"
   ]
  },
  {
   "cell_type": "markdown",
   "id": "769dfab9",
   "metadata": {},
   "source": [
    "**Interpretation:** The above dataframe shows that, the model cut_off probability 0.3, returns the highest AUC score, f1-score, kappa score and accuracy."
   ]
  },
  {
   "cell_type": "markdown",
   "id": "5003a79d",
   "metadata": {},
   "source": [
    "#### In the above method, we passed the list of values for the cut-off. But, this method is not efficient as one can pass different values and obtain a cut-off based on the passed values.\n",
    "\n",
    "#### To obtain the optimal cut-off value we use the following methods:\n",
    "\n",
    "1. Youden's Index\n",
    "2. Cost-based Method"
   ]
  },
  {
   "cell_type": "markdown",
   "id": "b0135f81",
   "metadata": {},
   "source": [
    "**-------------------------------------------------------------------------------------------------------------------------------------------------------------------**"
   ]
  },
  {
   "cell_type": "markdown",
   "id": "8c63510b",
   "metadata": {},
   "source": [
    "# Using SMOTE\n",
    "Researchers have found that balancing the data will to better classification models. We will try balancing our data using SMOTE."
   ]
  },
  {
   "cell_type": "code",
   "execution_count": 22,
   "id": "6551a8ab",
   "metadata": {},
   "outputs": [],
   "source": [
    "from imblearn.over_sampling import SMOTE\n",
    "sm = SMOTE(random_state = 10)"
   ]
  },
  {
   "cell_type": "code",
   "execution_count": 23,
   "id": "2e8d4273",
   "metadata": {},
   "outputs": [],
   "source": [
    "x_train, y_train = sm.fit_resample(x_train, y_train.ravel())"
   ]
  },
  {
   "cell_type": "code",
   "execution_count": 24,
   "id": "fb7a9eab",
   "metadata": {},
   "outputs": [
    {
     "data": {
      "text/plain": [
       "<AxesSubplot:>"
      ]
     },
     "execution_count": 24,
     "metadata": {},
     "output_type": "execute_result"
    },
    {
     "data": {
      "image/png": "[encoded data removed]",
      "text/plain": [
       "<Figure size 1080x576 with 1 Axes>"
      ]
     },
     "metadata": {
      "needs_background": "light"
     },
     "output_type": "display_data"
    }
   ],
   "source": [
    "# observe that data has been balanced\n",
    "pd.Series(y_train).value_counts().plot.bar()"
   ]
  },
  {
   "cell_type": "code",
   "execution_count": 25,
   "id": "77f433f9",
   "metadata": {},
   "outputs": [],
   "source": [
    "import statsmodels.api as sm"
   ]
  },
  {
   "cell_type": "markdown",
   "id": "a88d9ca3",
   "metadata": {},
   "source": [
    "## Logistic Regression (Full Model)"
   ]
  },
  {
   "cell_type": "markdown",
   "id": "cbbf46df",
   "metadata": {},
   "source": [
    "#### Build a full logistic model on a training dataset"
   ]
  },
  {
   "cell_type": "code",
   "execution_count": 26,
   "id": "fcdfc76c",
   "metadata": {},
   "outputs": [
    {
     "name": "stdout",
     "output_type": "stream",
     "text": [
      "Optimization terminated successfully.\n",
      "         Current function value: 0.248983\n",
      "         Iterations 9\n",
      "                           Logit Regression Results                           \n",
      "==============================================================================\n",
      "Dep. Variable:                      y   No. Observations:                55832\n",
      "Model:                          Logit   Df Residuals:                    55781\n",
      "Method:                           MLE   Df Model:                           50\n",
      "Date:                Wed, 21 Jun 2023   Pseudo R-squ.:                  0.6408\n",
      "Time:                        10:45:34   Log-Likelihood:                -13901.\n",
      "converged:                       True   LL-Null:                       -38700.\n",
      "Covariance Type:            nonrobust   LLR p-value:                     0.000\n",
      "=======================================================================================\n",
      "                          coef    std err          z      P>|z|      [0.025      0.975]\n",
      "---------------------------------------------------------------------------------------\n",
      "age                    -0.2116      0.048     -4.421      0.000      -0.305      -0.118\n",
      "balance                 0.0418      0.018      2.303      0.021       0.006       0.077\n",
      "day                     0.8688      0.048     18.280      0.000       0.776       0.962\n",
      "duration                2.0254      0.023     89.051      0.000       1.981       2.070\n",
      "campaign               -0.1920      0.018    -10.761      0.000      -0.227      -0.157\n",
      "pdays                  -0.6729      0.391     -1.722      0.085      -1.439       0.093\n",
      "previous                5.9074      0.388     15.214      0.000       5.146       6.668\n",
      "job_blue-collar        -2.0077      0.053    -37.806      0.000      -2.112      -1.904\n",
      "job_entrepreneur       -2.7739      0.136    -20.394      0.000      -3.040      -2.507\n",
      "job_housemaid          -3.3966      0.141    -24.098      0.000      -3.673      -3.120\n",
      "job_management         -1.6913      0.056    -30.055      0.000      -1.802      -1.581\n",
      "job_retired            -1.8004      0.091    -19.800      0.000      -1.979      -1.622\n",
      "job_self-employed      -2.7590      0.117    -23.598      0.000      -2.988      -2.530\n",
      "job_services           -2.1485      0.072    -29.802      0.000      -2.290      -2.007\n",
      "job_student            -1.5114      0.108    -14.018      0.000      -1.723      -1.300\n",
      "job_technician         -1.7427      0.052    -33.229      0.000      -1.845      -1.640\n",
      "job_unemployed         -2.6817      0.112    -23.865      0.000      -2.902      -2.461\n",
      "job_unknown            -3.1787      0.275    -11.557      0.000      -3.718      -2.640\n",
      "marital_married        -0.9529      0.044    -21.414      0.000      -1.040      -0.866\n",
      "marital_single         -0.8892      0.053    -16.684      0.000      -0.994      -0.785\n",
      "education_secondary    -1.0046      0.046    -21.737      0.000      -1.095      -0.914\n",
      "education_tertiary     -0.6015      0.058    -10.423      0.000      -0.715      -0.488\n",
      "education_unknown      -1.5554      0.110    -14.170      0.000      -1.771      -1.340\n",
      "default_yes            -0.9385      0.206     -4.558      0.000      -1.342      -0.535\n",
      "housing_yes            -1.4912      0.038    -38.877      0.000      -1.566      -1.416\n",
      "loan_yes               -1.4518      0.061    -23.737      0.000      -1.572      -1.332\n",
      "contact_telephone      -1.1491      0.085    -13.526      0.000      -1.316      -0.983\n",
      "contact_unknown        -1.7187      0.058    -29.603      0.000      -1.832      -1.605\n",
      "month_aug              -2.9694      0.059    -50.004      0.000      -3.086      -2.853\n",
      "month_dec              -2.0983      0.218     -9.631      0.000      -2.525      -1.671\n",
      "month_feb              -2.3098      0.074    -31.257      0.000      -2.455      -2.165\n",
      "month_jan              -3.9973      0.122    -32.712      0.000      -4.237      -3.758\n",
      "month_jul              -2.9697      0.061    -48.425      0.000      -3.090      -2.850\n",
      "month_jun              -1.6021      0.073    -22.071      0.000      -1.744      -1.460\n",
      "month_mar              -0.5062      0.124     -4.078      0.000      -0.750      -0.263\n",
      "month_may              -2.4092      0.055    -43.483      0.000      -2.518      -2.301\n",
      "month_nov              -2.6368      0.069    -38.072      0.000      -2.773      -2.501\n",
      "month_oct              -1.1423      0.110    -10.400      0.000      -1.358      -0.927\n",
      "month_sep              -1.4454      0.123    -11.788      0.000      -1.686      -1.205\n",
      "poutcome_other         -0.8379      0.092     -9.118      0.000      -1.018      -0.658\n",
      "poutcome_success        1.9059      0.083     22.956      0.000       1.743       2.069\n",
      "poutcome_unknown       13.1570      0.400     32.878      0.000      12.373      13.941\n",
      "age_group_19-25        -4.3128      0.327    -13.172      0.000      -4.955      -3.671\n",
      "age_group_26-35        -4.7369      0.310    -15.273      0.000      -5.345      -4.129\n",
      "age_group_36-50        -4.8569      0.310    -15.653      0.000      -5.465      -4.249\n",
      "age_group_51-65        -4.6840      0.320    -14.615      0.000      -5.312      -4.056\n",
      "age_group_65+          -3.6642      0.349    -10.492      0.000      -4.349      -2.980\n",
      "day_of_month_15-21     -2.1183      0.088    -24.061      0.000      -2.291      -1.946\n",
      "day_of_month_22-28     -2.2173      0.123    -18.013      0.000      -2.459      -1.976\n",
      "day_of_month_29-31     -3.1617      0.153    -20.698      0.000      -3.461      -2.862\n",
      "day_of_month_8-14      -0.8797      0.058    -15.113      0.000      -0.994      -0.766\n",
      "=======================================================================================\n"
     ]
    }
   ],
   "source": [
    "# build the model on train data (x_train and y_train)\n",
    "# use fit() to fit the logistic regression model\n",
    "logreg = sm.Logit(y_train,x_train).fit()\n",
    "\n",
    "# print the summary of the model\n",
    "print(logreg.summary())"
   ]
  },
  {
   "cell_type": "markdown",
   "id": "ffaab1b8",
   "metadata": {},
   "source": [
    "**Interpretation:** The `Pseudo R-squ.` obtained from the above model summary is the value of `McFadden's R-squared`. This value can be obtained from the formula:\n",
    "\n",
    "<p style='text-indent:25em'> <strong> McFadden's R-squared = $ 1 - \\frac{Log-Likelihood}{LL-Null} $</strong> </p>\n",
    "\n",
    "Where,<br>\n",
    "Log-Likelihood: It is the maximum value of the log-likelihood function<br>\n",
    "LL-Null: It is the maximum value of the log-likelihood function for the model containing only the intercept \n",
    "\n",
    "The LLR p-value is less than 0.05, implies that the `model is significant`."
   ]
  },
  {
   "cell_type": "markdown",
   "id": "29a5815a",
   "metadata": {},
   "source": [
    "There are different types of `pseudo R-squared` such as `Cox & Snell R-squared`.\n",
    "\n",
    "**Cox & Snell R-squared:** The convergence of the logistic model can be determined by the R-squared value. It is given by the formula:\n",
    "\n",
    "<p style='text-indent:25em'> <strong> Cox & Snell R-squared = $ 1 - (\\frac{L(M_{Intercept})}{L(M_{Full})})^{2/N} $</strong> </p>\n",
    "\n",
    "Where,<br> \n",
    "L(M): The conditional probability of target variable given the independent variables<br>\n",
    "N: Total number of observations\n",
    "\n",
    "**Note:** The maximum of Cox & Snell R-squared is always less than 1. By above model Cox & Snell R-squared is less than 1\n",
    "i.e (0.03456).\n"
   ]
  },
  {
   "cell_type": "markdown",
   "id": "4ad4ffe9",
   "metadata": {},
   "source": [
    "#### Calculate the AIC (Akaike Information Criterion) value."
   ]
  },
  {
   "cell_type": "markdown",
   "id": "8a34ef8e",
   "metadata": {},
   "source": [
    "It is a relative measure of model evaluation. It gives a trade-off between model accuracy and model complexity."
   ]
  },
  {
   "cell_type": "code",
   "execution_count": 28,
   "id": "c8e82459",
   "metadata": {},
   "outputs": [
    {
     "name": "stdout",
     "output_type": "stream",
     "text": [
      "AIC: 27904.425878847615\n"
     ]
    }
   ],
   "source": [
    "# 'aic' retuns the AIC value for the model\n",
    "print('AIC:', logreg.aic)"
   ]
  },
  {
   "cell_type": "markdown",
   "id": "3afc1e37",
   "metadata": {},
   "source": [
    "### Interpret the odds for each variable"
   ]
  },
  {
   "cell_type": "code",
   "execution_count": 29,
   "id": "995bbaac",
   "metadata": {},
   "outputs": [
    {
     "data": {
      "text/html": [
       "<div>\n",
       "<style scoped>\n",
       "    .dataframe tbody tr th:only-of-type {\n",
       "        vertical-align: middle;\n",
       "    }\n",
       "\n",
       "    .dataframe tbody tr th {\n",
       "        vertical-align: top;\n",
       "    }\n",
       "\n",
       "    .dataframe thead th {\n",
       "        text-align: right;\n",
       "    }\n",
       "</style>\n",
       "<table border=\"1\" class=\"dataframe\">\n",
       "  <thead>\n",
       "    <tr style=\"text-align: right;\">\n",
       "      <th></th>\n",
       "      <th>Odds</th>\n",
       "    </tr>\n",
       "  </thead>\n",
       "  <tbody>\n",
       "    <tr>\n",
       "      <th>age</th>\n",
       "      <td>0.809291</td>\n",
       "    </tr>\n",
       "    <tr>\n",
       "      <th>balance</th>\n",
       "      <td>1.042694</td>\n",
       "    </tr>\n",
       "    <tr>\n",
       "      <th>day</th>\n",
       "      <td>2.384096</td>\n",
       "    </tr>\n",
       "    <tr>\n",
       "      <th>duration</th>\n",
       "      <td>7.578902</td>\n",
       "    </tr>\n",
       "    <tr>\n",
       "      <th>campaign</th>\n",
       "      <td>0.825270</td>\n",
       "    </tr>\n",
       "    <tr>\n",
       "      <th>pdays</th>\n",
       "      <td>0.510228</td>\n",
       "    </tr>\n",
       "    <tr>\n",
       "      <th>previous</th>\n",
       "      <td>367.750896</td>\n",
       "    </tr>\n",
       "    <tr>\n",
       "      <th>job_blue-collar</th>\n",
       "      <td>0.134296</td>\n",
       "    </tr>\n",
       "    <tr>\n",
       "      <th>job_entrepreneur</th>\n",
       "      <td>0.062419</td>\n",
       "    </tr>\n",
       "    <tr>\n",
       "      <th>job_housemaid</th>\n",
       "      <td>0.033488</td>\n",
       "    </tr>\n",
       "    <tr>\n",
       "      <th>job_management</th>\n",
       "      <td>0.184275</td>\n",
       "    </tr>\n",
       "    <tr>\n",
       "      <th>job_retired</th>\n",
       "      <td>0.165239</td>\n",
       "    </tr>\n",
       "    <tr>\n",
       "      <th>job_self-employed</th>\n",
       "      <td>0.063358</td>\n",
       "    </tr>\n",
       "    <tr>\n",
       "      <th>job_services</th>\n",
       "      <td>0.116657</td>\n",
       "    </tr>\n",
       "    <tr>\n",
       "      <th>job_student</th>\n",
       "      <td>0.220590</td>\n",
       "    </tr>\n",
       "    <tr>\n",
       "      <th>job_technician</th>\n",
       "      <td>0.175055</td>\n",
       "    </tr>\n",
       "    <tr>\n",
       "      <th>job_unemployed</th>\n",
       "      <td>0.068448</td>\n",
       "    </tr>\n",
       "    <tr>\n",
       "      <th>job_unknown</th>\n",
       "      <td>0.041641</td>\n",
       "    </tr>\n",
       "    <tr>\n",
       "      <th>marital_married</th>\n",
       "      <td>0.385640</td>\n",
       "    </tr>\n",
       "    <tr>\n",
       "      <th>marital_single</th>\n",
       "      <td>0.410998</td>\n",
       "    </tr>\n",
       "    <tr>\n",
       "      <th>education_secondary</th>\n",
       "      <td>0.366191</td>\n",
       "    </tr>\n",
       "    <tr>\n",
       "      <th>education_tertiary</th>\n",
       "      <td>0.547964</td>\n",
       "    </tr>\n",
       "    <tr>\n",
       "      <th>education_unknown</th>\n",
       "      <td>0.211100</td>\n",
       "    </tr>\n",
       "    <tr>\n",
       "      <th>default_yes</th>\n",
       "      <td>0.391225</td>\n",
       "    </tr>\n",
       "    <tr>\n",
       "      <th>housing_yes</th>\n",
       "      <td>0.225093</td>\n",
       "    </tr>\n",
       "    <tr>\n",
       "      <th>loan_yes</th>\n",
       "      <td>0.234152</td>\n",
       "    </tr>\n",
       "    <tr>\n",
       "      <th>contact_telephone</th>\n",
       "      <td>0.316929</td>\n",
       "    </tr>\n",
       "    <tr>\n",
       "      <th>contact_unknown</th>\n",
       "      <td>0.179305</td>\n",
       "    </tr>\n",
       "    <tr>\n",
       "      <th>month_aug</th>\n",
       "      <td>0.051334</td>\n",
       "    </tr>\n",
       "    <tr>\n",
       "      <th>month_dec</th>\n",
       "      <td>0.122668</td>\n",
       "    </tr>\n",
       "    <tr>\n",
       "      <th>month_feb</th>\n",
       "      <td>0.099281</td>\n",
       "    </tr>\n",
       "    <tr>\n",
       "      <th>month_jan</th>\n",
       "      <td>0.018366</td>\n",
       "    </tr>\n",
       "    <tr>\n",
       "      <th>month_jul</th>\n",
       "      <td>0.051319</td>\n",
       "    </tr>\n",
       "    <tr>\n",
       "      <th>month_jun</th>\n",
       "      <td>0.201473</td>\n",
       "    </tr>\n",
       "    <tr>\n",
       "      <th>month_mar</th>\n",
       "      <td>0.602782</td>\n",
       "    </tr>\n",
       "    <tr>\n",
       "      <th>month_may</th>\n",
       "      <td>0.089884</td>\n",
       "    </tr>\n",
       "    <tr>\n",
       "      <th>month_nov</th>\n",
       "      <td>0.071590</td>\n",
       "    </tr>\n",
       "    <tr>\n",
       "      <th>month_oct</th>\n",
       "      <td>0.319069</td>\n",
       "    </tr>\n",
       "    <tr>\n",
       "      <th>month_sep</th>\n",
       "      <td>0.235646</td>\n",
       "    </tr>\n",
       "    <tr>\n",
       "      <th>poutcome_other</th>\n",
       "      <td>0.432625</td>\n",
       "    </tr>\n",
       "    <tr>\n",
       "      <th>poutcome_success</th>\n",
       "      <td>6.725689</td>\n",
       "    </tr>\n",
       "    <tr>\n",
       "      <th>poutcome_unknown</th>\n",
       "      <td>517614.833966</td>\n",
       "    </tr>\n",
       "    <tr>\n",
       "      <th>age_group_19-25</th>\n",
       "      <td>0.013396</td>\n",
       "    </tr>\n",
       "    <tr>\n",
       "      <th>age_group_26-35</th>\n",
       "      <td>0.008765</td>\n",
       "    </tr>\n",
       "    <tr>\n",
       "      <th>age_group_36-50</th>\n",
       "      <td>0.007775</td>\n",
       "    </tr>\n",
       "    <tr>\n",
       "      <th>age_group_51-65</th>\n",
       "      <td>0.009242</td>\n",
       "    </tr>\n",
       "    <tr>\n",
       "      <th>age_group_65+</th>\n",
       "      <td>0.025624</td>\n",
       "    </tr>\n",
       "    <tr>\n",
       "      <th>day_of_month_15-21</th>\n",
       "      <td>0.120233</td>\n",
       "    </tr>\n",
       "    <tr>\n",
       "      <th>day_of_month_22-28</th>\n",
       "      <td>0.108905</td>\n",
       "    </tr>\n",
       "    <tr>\n",
       "      <th>day_of_month_29-31</th>\n",
       "      <td>0.042352</td>\n",
       "    </tr>\n",
       "    <tr>\n",
       "      <th>day_of_month_8-14</th>\n",
       "      <td>0.414895</td>\n",
       "    </tr>\n",
       "  </tbody>\n",
       "</table>\n",
       "</div>"
      ],
      "text/plain": [
       "                             Odds\n",
       "age                      0.809291\n",
       "balance                  1.042694\n",
       "day                      2.384096\n",
       "duration                 7.578902\n",
       "campaign                 0.825270\n",
       "pdays                    0.510228\n",
       "previous               367.750896\n",
       "job_blue-collar          0.134296\n",
       "job_entrepreneur         0.062419\n",
       "job_housemaid            0.033488\n",
       "job_management           0.184275\n",
       "job_retired              0.165239\n",
       "job_self-employed        0.063358\n",
       "job_services             0.116657\n",
       "job_student              0.220590\n",
       "job_technician           0.175055\n",
       "job_unemployed           0.068448\n",
       "job_unknown              0.041641\n",
       "marital_married          0.385640\n",
       "marital_single           0.410998\n",
       "education_secondary      0.366191\n",
       "education_tertiary       0.547964\n",
       "education_unknown        0.211100\n",
       "default_yes              0.391225\n",
       "housing_yes              0.225093\n",
       "loan_yes                 0.234152\n",
       "contact_telephone        0.316929\n",
       "contact_unknown          0.179305\n",
       "month_aug                0.051334\n",
       "month_dec                0.122668\n",
       "month_feb                0.099281\n",
       "month_jan                0.018366\n",
       "month_jul                0.051319\n",
       "month_jun                0.201473\n",
       "month_mar                0.602782\n",
       "month_may                0.089884\n",
       "month_nov                0.071590\n",
       "month_oct                0.319069\n",
       "month_sep                0.235646\n",
       "poutcome_other           0.432625\n",
       "poutcome_success         6.725689\n",
       "poutcome_unknown    517614.833966\n",
       "age_group_19-25          0.013396\n",
       "age_group_26-35          0.008765\n",
       "age_group_36-50          0.007775\n",
       "age_group_51-65          0.009242\n",
       "age_group_65+            0.025624\n",
       "day_of_month_15-21       0.120233\n",
       "day_of_month_22-28       0.108905\n",
       "day_of_month_29-31       0.042352\n",
       "day_of_month_8-14        0.414895"
      ]
     },
     "execution_count": 29,
     "metadata": {},
     "output_type": "execute_result"
    }
   ],
   "source": [
    "# take the exponential of the coefficient of a variable to calculate the odds\n",
    "# 'params' returns the coefficients of all the independent variables\n",
    "# pass the required column name to the parameter, 'columns'\n",
    "df_odds = pd.DataFrame(np.exp(logreg.params), columns= ['Odds']) \n",
    "\n",
    "# print the dataframe\n",
    "df_odds"
   ]
  },
  {
   "cell_type": "markdown",
   "id": "cf99eab3",
   "metadata": {},
   "source": [
    "Since the target variable can take only two values either 0 or 1. We decide the cut-off of 0.5. i.e. if 'y_pred_prob' is less than 0.5, then consider it to be 0 else consider it to be 1"
   ]
  },
  {
   "cell_type": "markdown",
   "id": "ae4907bd",
   "metadata": {},
   "source": [
    "### Do predictions on the test set."
   ]
  },
  {
   "cell_type": "code",
   "execution_count": 31,
   "id": "1452e270",
   "metadata": {},
   "outputs": [
    {
     "data": {
      "text/plain": [
       "4393    0.051313\n",
       "4438    0.000732\n",
       "11108   0.590748\n",
       "35421   0.131702\n",
       "2667    0.098637\n",
       "dtype: float64"
      ]
     },
     "execution_count": 31,
     "metadata": {},
     "output_type": "execute_result"
    }
   ],
   "source": [
    "# let 'y_pred_prob' be the predicted values of y\n",
    "y_pred_prob = logreg.predict(x_test)\n",
    "\n",
    "# print the y_pred_prob\n",
    "y_pred_prob.head()"
   ]
  },
  {
   "cell_type": "markdown",
   "id": "112157df",
   "metadata": {},
   "source": [
    "Since the target variable can take only two values either 0 or 1. We decide the cut-off of 0.5. i.e. if 'y_pred_prob' is less than 0.5, then consider it to be 0 else consider it to be 1."
   ]
  },
  {
   "cell_type": "code",
   "execution_count": 32,
   "id": "1474c976",
   "metadata": {},
   "outputs": [],
   "source": [
    "# convert probabilities to 0 and 1 using 'if_else'\n",
    "y_pred = [ 0 if x < 0.6 else 1 for x in y_pred_prob]"
   ]
  },
  {
   "cell_type": "code",
   "execution_count": 33,
   "id": "38506343",
   "metadata": {},
   "outputs": [
    {
     "data": {
      "text/plain": [
       "[0, 0, 0, 0, 0]"
      ]
     },
     "execution_count": 33,
     "metadata": {},
     "output_type": "execute_result"
    }
   ],
   "source": [
    "# print the first five observations of y_pred\n",
    "y_pred[0:5]"
   ]
  },
  {
   "cell_type": "markdown",
   "id": "37c4d554",
   "metadata": {},
   "source": [
    "### Plot the confusion matrix."
   ]
  },
  {
   "cell_type": "code",
   "execution_count": 34,
   "id": "4b16076d",
   "metadata": {},
   "outputs": [
    {
     "data": {
      "image/png": "[encoded data removed]",
      "text/plain": [
       "<Figure size 1080x576 with 1 Axes>"
      ]
     },
     "metadata": {
      "needs_background": "light"
     },
     "output_type": "display_data"
    }
   ],
   "source": [
    "# create a confusion matrix\n",
    "# pass the actual and predicted target values to the confusion_matrix()\n",
    "cm = confusion_matrix(y_test, y_pred)\n",
    "\n",
    "# label the confusion matrix  \n",
    "# pass the matrix as 'data'\n",
    "# pass the required column names to the parameter, 'columns'\n",
    "# pass the required row names to the parameter, 'index'\n",
    "conf_matrix = pd.DataFrame(data = cm,columns = ['Predicted:0','Predicted:1'], index = ['Actual:0','Actual:1'])\n",
    "\n",
    "# plot a heatmap to visualize the confusion matrix\n",
    "# 'annot' prints the value of each grid \n",
    "# 'fmt = d' returns the integer value in each grid\n",
    "# 'cmap' assigns color to each grid\n",
    "# as we do not require different colors for each grid in the heatmap,\n",
    "# use 'ListedColormap' to assign the specified color to the grid\n",
    "# 'cbar = False' will not return the color bar to the right side of the heatmap\n",
    "# 'linewidths' assigns the width to the line that divides each grid\n",
    "# 'annot_kws = {'size':25})' assigns the font size of the annotated text \n",
    "sns.heatmap(conf_matrix, annot = True, fmt = 'd', cmap = ListedColormap(['lightskyblue']), cbar = False, \n",
    "            linewidths = 0.1, annot_kws = {'size':25})\n",
    "\n",
    "# set the font size of x-axis ticks using 'fontsize'\n",
    "plt.xticks(fontsize = 20)\n",
    "\n",
    "# set the font size of y-axis ticks using 'fontsize'\n",
    "plt.yticks(fontsize = 20)\n",
    "\n",
    "# display the plot\n",
    "plt.show()"
   ]
  },
  {
   "cell_type": "code",
   "execution_count": 35,
   "id": "71ee2a6d",
   "metadata": {},
   "outputs": [
    {
     "name": "stdout",
     "output_type": "stream",
     "text": [
      "              precision    recall  f1-score   support\n",
      "\n",
      "           0       0.94      0.92      0.93     12006\n",
      "           1       0.47      0.56      0.51      1558\n",
      "\n",
      "    accuracy                           0.88     13564\n",
      "   macro avg       0.70      0.74      0.72     13564\n",
      "weighted avg       0.89      0.88      0.88     13564\n",
      "\n"
     ]
    }
   ],
   "source": [
    "# calculate various performance measures\n",
    "acc_table = classification_report(y_test, y_pred)\n",
    "\n",
    "# print the table\n",
    "print(acc_table)"
   ]
  },
  {
   "cell_type": "markdown",
   "id": "74f63206",
   "metadata": {},
   "source": [
    "**Interpretation:** \n",
    "\n",
    "From the above output, we can infer that the recall of the positive class is known as `sensitivity` and the recall of the negative class is `specificity`.\n",
    "\n",
    "`support` is the number of observations in the corresponding class.\n",
    "\n",
    "The `macro average` in the output is obtained by averaging the unweighted mean per label and the `weighted average` is given by averaging the support-weighted mean per label."
   ]
  },
  {
   "cell_type": "markdown",
   "id": "5fa8335d",
   "metadata": {},
   "source": [
    "### Kappa score"
   ]
  },
  {
   "cell_type": "markdown",
   "id": "5a59862d",
   "metadata": {},
   "source": [
    "It is a measure of inter-rater reliability. For logistic regression, the actual and predicted values of the target variable are the raters."
   ]
  },
  {
   "cell_type": "code",
   "execution_count": 36,
   "id": "5a05d5d1",
   "metadata": {},
   "outputs": [
    {
     "name": "stdout",
     "output_type": "stream",
     "text": [
      "kappa value: 0.43844091487838366\n"
     ]
    }
   ],
   "source": [
    "# compute the kappa value\n",
    "kappa = cohen_kappa_score(y_test, y_pred)\n",
    "\n",
    "# print the kappa value\n",
    "print('kappa value:',kappa)"
   ]
  },
  {
   "cell_type": "markdown",
   "id": "d3b14fe3",
   "metadata": {},
   "source": [
    "**Interpretation:** As the kappa score for the full model (with cut-off probability 0.5) is 0.4384, we can say that there is substantial agreement between the actual and predicted values."
   ]
  },
  {
   "cell_type": "markdown",
   "id": "85b2a574",
   "metadata": {},
   "source": [
    "### Plot the ROC curve"
   ]
  },
  {
   "cell_type": "markdown",
   "id": "c6959642",
   "metadata": {},
   "source": [
    "ROC curve is plotted with the true positive rate (tpr) on the y-axis and false positive rate (fpr) on the x-axis. The area under this curve is used as a measure of separability of the model."
   ]
  },
  {
   "cell_type": "code",
   "execution_count": 37,
   "id": "0ce4f40f",
   "metadata": {},
   "outputs": [
    {
     "data": {
      "image/png": "[encoded data removed]",
      "text/plain": [
       "<Figure size 1080x576 with 1 Axes>"
      ]
     },
     "metadata": {
      "needs_background": "light"
     },
     "output_type": "display_data"
    }
   ],
   "source": [
    "# the roc_curve() returns the values for false positive rate, true positive rate and threshold\n",
    "# pass the actual target values and predicted probabilities to the function\n",
    "fpr, tpr, thresholds = roc_curve(y_test, y_pred_prob)\n",
    "\n",
    "# plot the ROC curve\n",
    "plt.plot(fpr, tpr)\n",
    "\n",
    "# set limits for x and y axes\n",
    "plt.xlim([0.0, 1.0])\n",
    "plt.ylim([0.0, 1.0])\n",
    "\n",
    "# plot the straight line showing worst prediction for the model\n",
    "plt.plot([0, 1], [0, 1],'r--')\n",
    "\n",
    "# add plot and axes labels\n",
    "# set text size using 'fontsize'\n",
    "plt.title('ROC curve for Telecom Churn Classifier (Full Model)', fontsize = 15)\n",
    "plt.xlabel('False positive rate (1-Specificity)', fontsize = 15)\n",
    "plt.ylabel('True positive rate (Sensitivity)', fontsize = 15)\n",
    "\n",
    "# add the AUC score to the plot\n",
    "# 'x' and 'y' gives position of the text\n",
    "# 's' is the text \n",
    "# use round() to round-off the AUC score upto 4 digits\n",
    "plt.text(x = 0.02, y = 0.9, s = ('AUC Score:', round(metrics.roc_auc_score(y_test, y_pred_prob),4)))\n",
    "                               \n",
    "# plot the grid\n",
    "plt.grid(True)"
   ]
  },
  {
   "cell_type": "markdown",
   "id": "280c04cd",
   "metadata": {},
   "source": [
    "### Interpretation: \n",
    "The red dotted line represents the ROC curve of a purely random classifier; a good classifier stays as far away from that line as possible (toward the top-left corner).\n",
    "From the above plot, we can see that our classifier (logistic regression) is away from the dotted line; with the AUC score 0.8828."
   ]
  },
  {
   "cell_type": "code",
   "execution_count": 38,
   "id": "db8c94ce",
   "metadata": {},
   "outputs": [
    {
     "data": {
      "text/plain": [
       "0.8764376290179888"
      ]
     },
     "execution_count": 38,
     "metadata": {},
     "output_type": "execute_result"
    }
   ],
   "source": [
    "metrics.accuracy_score(y_test, y_pred)"
   ]
  },
  {
   "cell_type": "code",
   "execution_count": 39,
   "id": "747df634",
   "metadata": {},
   "outputs": [],
   "source": [
    "# consider a list of values for cut-off\n",
    "cutoff = [0.1, 0.2, 0.3, 0.4, 0.5, 0.6, 0.7, 0.8, 0.9]\n",
    "\n",
    "# use the for loop to compute performance measures for each value of the cut-off\n",
    "# call the update_score_card() to update the score card for each cut-off\n",
    "# pass the model and cut-off value to the function\n",
    "for value in cutoff:\n",
    "    update_score_card(logreg, value)"
   ]
  },
  {
   "cell_type": "code",
   "execution_count": 40,
   "id": "2748dd4f",
   "metadata": {},
   "outputs": [
    {
     "name": "stdout",
     "output_type": "stream",
     "text": [
      "Score Card for Logistic regression:\n"
     ]
    },
    {
     "data": {
      "text/html": [
       "<style type=\"text/css\">\n",
       "#T_bf947_row0_col1, #T_bf947_row2_col1, #T_bf947_row4_col1, #T_bf947_row4_col5, #T_bf947_row4_col6, #T_bf947_row6_col1, #T_bf947_row6_col4, #T_bf947_row8_col1, #T_bf947_row10_col1, #T_bf947_row12_col1, #T_bf947_row14_col1, #T_bf947_row16_col1 {\n",
       "  background-color: lightblue;\n",
       "}\n",
       "</style>\n",
       "<table id=\"T_bf947\">\n",
       "  <thead>\n",
       "    <tr>\n",
       "      <th class=\"blank level0\" >&nbsp;</th>\n",
       "      <th id=\"T_bf947_level0_col0\" class=\"col_heading level0 col0\" >Probability Cutoff</th>\n",
       "      <th id=\"T_bf947_level0_col1\" class=\"col_heading level0 col1\" >AUC Score</th>\n",
       "      <th id=\"T_bf947_level0_col2\" class=\"col_heading level0 col2\" >Precision Score</th>\n",
       "      <th id=\"T_bf947_level0_col3\" class=\"col_heading level0 col3\" >Recall Score</th>\n",
       "      <th id=\"T_bf947_level0_col4\" class=\"col_heading level0 col4\" >Accuracy Score</th>\n",
       "      <th id=\"T_bf947_level0_col5\" class=\"col_heading level0 col5\" >Kappa Score</th>\n",
       "      <th id=\"T_bf947_level0_col6\" class=\"col_heading level0 col6\" >f1-score</th>\n",
       "    </tr>\n",
       "  </thead>\n",
       "  <tbody>\n",
       "    <tr>\n",
       "      <th id=\"T_bf947_level0_row0\" class=\"row_heading level0 row0\" >0</th>\n",
       "      <td id=\"T_bf947_row0_col0\" class=\"data row0 col0\" >0.100000</td>\n",
       "      <td id=\"T_bf947_row0_col1\" class=\"data row0 col1\" >0.912488</td>\n",
       "      <td id=\"T_bf947_row0_col2\" class=\"data row0 col2\" >0.354280</td>\n",
       "      <td id=\"T_bf947_row0_col3\" class=\"data row0 col3\" >0.879332</td>\n",
       "      <td id=\"T_bf947_row0_col4\" class=\"data row0 col4\" >0.802050</td>\n",
       "      <td id=\"T_bf947_row0_col5\" class=\"data row0 col5\" >0.408154</td>\n",
       "      <td id=\"T_bf947_row0_col6\" class=\"data row0 col6\" >0.505069</td>\n",
       "    </tr>\n",
       "    <tr>\n",
       "      <th id=\"T_bf947_level0_row1\" class=\"row_heading level0 row1\" >1</th>\n",
       "      <td id=\"T_bf947_row1_col0\" class=\"data row1 col0\" >0.100000</td>\n",
       "      <td id=\"T_bf947_row1_col1\" class=\"data row1 col1\" >0.882752</td>\n",
       "      <td id=\"T_bf947_row1_col2\" class=\"data row1 col2\" >0.260583</td>\n",
       "      <td id=\"T_bf947_row1_col3\" class=\"data row1 col3\" >0.912709</td>\n",
       "      <td id=\"T_bf947_row1_col4\" class=\"data row1 col4\" >0.692495</td>\n",
       "      <td id=\"T_bf947_row1_col5\" class=\"data row1 col5\" >0.276042</td>\n",
       "      <td id=\"T_bf947_row1_col6\" class=\"data row1 col6\" >0.405417</td>\n",
       "    </tr>\n",
       "    <tr>\n",
       "      <th id=\"T_bf947_level0_row2\" class=\"row_heading level0 row2\" >2</th>\n",
       "      <td id=\"T_bf947_row2_col0\" class=\"data row2 col0\" >0.200000</td>\n",
       "      <td id=\"T_bf947_row2_col1\" class=\"data row2 col1\" >0.912488</td>\n",
       "      <td id=\"T_bf947_row2_col2\" class=\"data row2 col2\" >0.470960</td>\n",
       "      <td id=\"T_bf947_row2_col3\" class=\"data row2 col3\" >0.718228</td>\n",
       "      <td id=\"T_bf947_row2_col4\" class=\"data row2 col4\" >0.874963</td>\n",
       "      <td id=\"T_bf947_row2_col5\" class=\"data row2 col5\" >0.499435</td>\n",
       "      <td id=\"T_bf947_row2_col6\" class=\"data row2 col6\" >0.568887</td>\n",
       "    </tr>\n",
       "    <tr>\n",
       "      <th id=\"T_bf947_level0_row3\" class=\"row_heading level0 row3\" >3</th>\n",
       "      <td id=\"T_bf947_row3_col0\" class=\"data row3 col0\" >0.200000</td>\n",
       "      <td id=\"T_bf947_row3_col1\" class=\"data row3 col1\" >0.882752</td>\n",
       "      <td id=\"T_bf947_row3_col2\" class=\"data row3 col2\" >0.324852</td>\n",
       "      <td id=\"T_bf947_row3_col3\" class=\"data row3 col3\" >0.844031</td>\n",
       "      <td id=\"T_bf947_row3_col4\" class=\"data row3 col4\" >0.780596</td>\n",
       "      <td id=\"T_bf947_row3_col5\" class=\"data row3 col5\" >0.363568</td>\n",
       "      <td id=\"T_bf947_row3_col6\" class=\"data row3 col6\" >0.469140</td>\n",
       "    </tr>\n",
       "    <tr>\n",
       "      <th id=\"T_bf947_level0_row4\" class=\"row_heading level0 row4\" >4</th>\n",
       "      <td id=\"T_bf947_row4_col0\" class=\"data row4 col0\" >0.300000</td>\n",
       "      <td id=\"T_bf947_row4_col1\" class=\"data row4 col1\" >0.912488</td>\n",
       "      <td id=\"T_bf947_row4_col2\" class=\"data row4 col2\" >0.556220</td>\n",
       "      <td id=\"T_bf947_row4_col3\" class=\"data row4 col3\" >0.596919</td>\n",
       "      <td id=\"T_bf947_row4_col4\" class=\"data row4 col4\" >0.898997</td>\n",
       "      <td id=\"T_bf947_row4_col5\" class=\"data row4 col5\" >0.518605</td>\n",
       "      <td id=\"T_bf947_row4_col6\" class=\"data row4 col6\" >0.575851</td>\n",
       "    </tr>\n",
       "    <tr>\n",
       "      <th id=\"T_bf947_level0_row5\" class=\"row_heading level0 row5\" >5</th>\n",
       "      <td id=\"T_bf947_row5_col0\" class=\"data row5 col0\" >0.300000</td>\n",
       "      <td id=\"T_bf947_row5_col1\" class=\"data row5 col1\" >0.882752</td>\n",
       "      <td id=\"T_bf947_row5_col2\" class=\"data row5 col2\" >0.369292</td>\n",
       "      <td id=\"T_bf947_row5_col3\" class=\"data row5 col3\" >0.773427</td>\n",
       "      <td id=\"T_bf947_row5_col4\" class=\"data row5 col4\" >0.822250</td>\n",
       "      <td id=\"T_bf947_row5_col5\" class=\"data row5 col5\" >0.407821</td>\n",
       "      <td id=\"T_bf947_row5_col6\" class=\"data row5 col6\" >0.499896</td>\n",
       "    </tr>\n",
       "    <tr>\n",
       "      <th id=\"T_bf947_level0_row6\" class=\"row_heading level0 row6\" >6</th>\n",
       "      <td id=\"T_bf947_row6_col0\" class=\"data row6 col0\" >0.400000</td>\n",
       "      <td id=\"T_bf947_row6_col1\" class=\"data row6 col1\" >0.912488</td>\n",
       "      <td id=\"T_bf947_row6_col2\" class=\"data row6 col2\" >0.622517</td>\n",
       "      <td id=\"T_bf947_row6_col3\" class=\"data row6 col3\" >0.482670</td>\n",
       "      <td id=\"T_bf947_row6_col4\" class=\"data row6 col4\" >0.906960</td>\n",
       "      <td id=\"T_bf947_row6_col5\" class=\"data row6 col5\" >0.492865</td>\n",
       "      <td id=\"T_bf947_row6_col6\" class=\"data row6 col6\" >0.543745</td>\n",
       "    </tr>\n",
       "    <tr>\n",
       "      <th id=\"T_bf947_level0_row7\" class=\"row_heading level0 row7\" >7</th>\n",
       "      <td id=\"T_bf947_row7_col0\" class=\"data row7 col0\" >0.400000</td>\n",
       "      <td id=\"T_bf947_row7_col1\" class=\"data row7 col1\" >0.882752</td>\n",
       "      <td id=\"T_bf947_row7_col2\" class=\"data row7 col2\" >0.407037</td>\n",
       "      <td id=\"T_bf947_row7_col3\" class=\"data row7 col3\" >0.705392</td>\n",
       "      <td id=\"T_bf947_row7_col4\" class=\"data row7 col4\" >0.848127</td>\n",
       "      <td id=\"T_bf947_row7_col5\" class=\"data row7 col5\" >0.433714</td>\n",
       "      <td id=\"T_bf947_row7_col6\" class=\"data row7 col6\" >0.516205</td>\n",
       "    </tr>\n",
       "    <tr>\n",
       "      <th id=\"T_bf947_level0_row8\" class=\"row_heading level0 row8\" >8</th>\n",
       "      <td id=\"T_bf947_row8_col0\" class=\"data row8 col0\" >0.500000</td>\n",
       "      <td id=\"T_bf947_row8_col1\" class=\"data row8 col1\" >0.912488</td>\n",
       "      <td id=\"T_bf947_row8_col2\" class=\"data row8 col2\" >0.647919</td>\n",
       "      <td id=\"T_bf947_row8_col3\" class=\"data row8 col3\" >0.369705</td>\n",
       "      <td id=\"T_bf947_row8_col4\" class=\"data row8 col4\" >0.904527</td>\n",
       "      <td id=\"T_bf947_row8_col5\" class=\"data row8 col5\" >0.422590</td>\n",
       "      <td id=\"T_bf947_row8_col6\" class=\"data row8 col6\" >0.470781</td>\n",
       "    </tr>\n",
       "    <tr>\n",
       "      <th id=\"T_bf947_level0_row9\" class=\"row_heading level0 row9\" >9</th>\n",
       "      <td id=\"T_bf947_row9_col0\" class=\"data row9 col0\" >0.500000</td>\n",
       "      <td id=\"T_bf947_row9_col1\" class=\"data row9 col1\" >0.882752</td>\n",
       "      <td id=\"T_bf947_row9_col2\" class=\"data row9 col2\" >0.437362</td>\n",
       "      <td id=\"T_bf947_row9_col3\" class=\"data row9 col3\" >0.634146</td>\n",
       "      <td id=\"T_bf947_row9_col4\" class=\"data row9 col4\" >0.864273</td>\n",
       "      <td id=\"T_bf947_row9_col5\" class=\"data row9 col5\" >0.441791</td>\n",
       "      <td id=\"T_bf947_row9_col6\" class=\"data row9 col6\" >0.517684</td>\n",
       "    </tr>\n",
       "    <tr>\n",
       "      <th id=\"T_bf947_level0_row10\" class=\"row_heading level0 row10\" >10</th>\n",
       "      <td id=\"T_bf947_row10_col0\" class=\"data row10 col0\" >0.600000</td>\n",
       "      <td id=\"T_bf947_row10_col1\" class=\"data row10 col1\" >0.912488</td>\n",
       "      <td id=\"T_bf947_row10_col2\" class=\"data row10 col2\" >0.704160</td>\n",
       "      <td id=\"T_bf947_row10_col3\" class=\"data row10 col3\" >0.293325</td>\n",
       "      <td id=\"T_bf947_row10_col4\" class=\"data row10 col4\" >0.904674</td>\n",
       "      <td id=\"T_bf947_row10_col5\" class=\"data row10 col5\" >0.371692</td>\n",
       "      <td id=\"T_bf947_row10_col6\" class=\"data row10 col6\" >0.414137</td>\n",
       "    </tr>\n",
       "    <tr>\n",
       "      <th id=\"T_bf947_level0_row11\" class=\"row_heading level0 row11\" >11</th>\n",
       "      <td id=\"T_bf947_row11_col0\" class=\"data row11 col0\" >0.600000</td>\n",
       "      <td id=\"T_bf947_row11_col1\" class=\"data row11 col1\" >0.882752</td>\n",
       "      <td id=\"T_bf947_row11_col2\" class=\"data row11 col2\" >0.468143</td>\n",
       "      <td id=\"T_bf947_row11_col3\" class=\"data row11 col3\" >0.556483</td>\n",
       "      <td id=\"T_bf947_row11_col4\" class=\"data row11 col4\" >0.876438</td>\n",
       "      <td id=\"T_bf947_row11_col5\" class=\"data row11 col5\" >0.438441</td>\n",
       "      <td id=\"T_bf947_row11_col6\" class=\"data row11 col6\" >0.508504</td>\n",
       "    </tr>\n",
       "    <tr>\n",
       "      <th id=\"T_bf947_level0_row12\" class=\"row_heading level0 row12\" >12</th>\n",
       "      <td id=\"T_bf947_row12_col0\" class=\"data row12 col0\" >0.700000</td>\n",
       "      <td id=\"T_bf947_row12_col1\" class=\"data row12 col1\" >0.912488</td>\n",
       "      <td id=\"T_bf947_row12_col2\" class=\"data row12 col2\" >0.727069</td>\n",
       "      <td id=\"T_bf947_row12_col3\" class=\"data row12 col3\" >0.208601</td>\n",
       "      <td id=\"T_bf947_row12_col4\" class=\"data row12 col4\" >0.900103</td>\n",
       "      <td id=\"T_bf947_row12_col5\" class=\"data row12 col5\" >0.287709</td>\n",
       "      <td id=\"T_bf947_row12_col6\" class=\"data row12 col6\" >0.324190</td>\n",
       "    </tr>\n",
       "    <tr>\n",
       "      <th id=\"T_bf947_level0_row13\" class=\"row_heading level0 row13\" >13</th>\n",
       "      <td id=\"T_bf947_row13_col0\" class=\"data row13 col0\" >0.700000</td>\n",
       "      <td id=\"T_bf947_row13_col1\" class=\"data row13 col1\" >0.882752</td>\n",
       "      <td id=\"T_bf947_row13_col2\" class=\"data row13 col2\" >0.505369</td>\n",
       "      <td id=\"T_bf947_row13_col3\" class=\"data row13 col3\" >0.483312</td>\n",
       "      <td id=\"T_bf947_row13_col4\" class=\"data row13 col4\" >0.886317</td>\n",
       "      <td id=\"T_bf947_row13_col5\" class=\"data row13 col5\" >0.430094</td>\n",
       "      <td id=\"T_bf947_row13_col6\" class=\"data row13 col6\" >0.494094</td>\n",
       "    </tr>\n",
       "    <tr>\n",
       "      <th id=\"T_bf947_level0_row14\" class=\"row_heading level0 row14\" >14</th>\n",
       "      <td id=\"T_bf947_row14_col0\" class=\"data row14 col0\" >0.800000</td>\n",
       "      <td id=\"T_bf947_row14_col1\" class=\"data row14 col1\" >0.912488</td>\n",
       "      <td id=\"T_bf947_row14_col2\" class=\"data row14 col2\" >0.758007</td>\n",
       "      <td id=\"T_bf947_row14_col3\" class=\"data row14 col3\" >0.136714</td>\n",
       "      <td id=\"T_bf947_row14_col4\" class=\"data row14 col4\" >0.895827</td>\n",
       "      <td id=\"T_bf947_row14_col5\" class=\"data row14 col5\" >0.203696</td>\n",
       "      <td id=\"T_bf947_row14_col6\" class=\"data row14 col6\" >0.231648</td>\n",
       "    </tr>\n",
       "    <tr>\n",
       "      <th id=\"T_bf947_level0_row15\" class=\"row_heading level0 row15\" >15</th>\n",
       "      <td id=\"T_bf947_row15_col0\" class=\"data row15 col0\" >0.800000</td>\n",
       "      <td id=\"T_bf947_row15_col1\" class=\"data row15 col1\" >0.882752</td>\n",
       "      <td id=\"T_bf947_row15_col2\" class=\"data row15 col2\" >0.547729</td>\n",
       "      <td id=\"T_bf947_row15_col3\" class=\"data row15 col3\" >0.379332</td>\n",
       "      <td id=\"T_bf947_row15_col4\" class=\"data row15 col4\" >0.892731</td>\n",
       "      <td id=\"T_bf947_row15_col5\" class=\"data row15 col5\" >0.390991</td>\n",
       "      <td id=\"T_bf947_row15_col6\" class=\"data row15 col6\" >0.448237</td>\n",
       "    </tr>\n",
       "    <tr>\n",
       "      <th id=\"T_bf947_level0_row16\" class=\"row_heading level0 row16\" >16</th>\n",
       "      <td id=\"T_bf947_row16_col0\" class=\"data row16 col0\" >0.900000</td>\n",
       "      <td id=\"T_bf947_row16_col1\" class=\"data row16 col1\" >0.912488</td>\n",
       "      <td id=\"T_bf947_row16_col2\" class=\"data row16 col2\" >0.805970</td>\n",
       "      <td id=\"T_bf947_row16_col3\" class=\"data row16 col3\" >0.069320</td>\n",
       "      <td id=\"T_bf947_row16_col4\" class=\"data row16 col4\" >0.891183</td>\n",
       "      <td id=\"T_bf947_row16_col5\" class=\"data row16 col5\" >0.111495</td>\n",
       "      <td id=\"T_bf947_row16_col6\" class=\"data row16 col6\" >0.127660</td>\n",
       "    </tr>\n",
       "    <tr>\n",
       "      <th id=\"T_bf947_level0_row17\" class=\"row_heading level0 row17\" >17</th>\n",
       "      <td id=\"T_bf947_row17_col0\" class=\"data row17 col0\" >0.900000</td>\n",
       "      <td id=\"T_bf947_row17_col1\" class=\"data row17 col1\" >0.882752</td>\n",
       "      <td id=\"T_bf947_row17_col2\" class=\"data row17 col2\" >0.597201</td>\n",
       "      <td id=\"T_bf947_row17_col3\" class=\"data row17 col3\" >0.246470</td>\n",
       "      <td id=\"T_bf947_row17_col4\" class=\"data row17 col4\" >0.894353</td>\n",
       "      <td id=\"T_bf947_row17_col5\" class=\"data row17 col5\" >0.302094</td>\n",
       "      <td id=\"T_bf947_row17_col6\" class=\"data row17 col6\" >0.348932</td>\n",
       "    </tr>\n",
       "  </tbody>\n",
       "</table>\n"
      ],
      "text/plain": [
       "<pandas.io.formats.style.Styler at 0x1dd3553e3d0>"
      ]
     },
     "execution_count": 40,
     "metadata": {},
     "output_type": "execute_result"
    }
   ],
   "source": [
    "# print the score card \n",
    "print('Score Card for Logistic regression:')\n",
    "\n",
    "# sort the dataframe based on the probability cut-off values ascending order\n",
    "# 'reset_index' resets the index of the dataframe\n",
    "# 'drop = True' drops the previous index\n",
    "score_card = score_card.sort_values('Probability Cutoff').reset_index(drop = True)\n",
    "\n",
    "# color the cell in the columns 'AUC Score', 'Accuracy Score', 'Kappa Score', 'f1-score' having maximum values\n",
    "# 'style.highlight_max' assigns color to the maximum value\n",
    "# pass specified color to the parameter, 'color'\n",
    "# pass the data to limit the color assignment to the parameter, 'subset' \n",
    "score_card.style.highlight_max(color = 'lightblue', subset = ['AUC Score', 'Accuracy Score', 'Kappa Score', 'f1-score'])"
   ]
  },
  {
   "cell_type": "markdown",
   "id": "19a2a886",
   "metadata": {},
   "source": [
    "**Interpretation:** The above dataframe shows that, the model cut_off probability 0.6, returns the highest AUC score, f1-score, kappa score and accuracy."
   ]
  },
  {
   "cell_type": "code",
   "execution_count": null,
   "id": "c41a0c77",
   "metadata": {},
   "outputs": [],
   "source": []
  }
 ],
 "metadata": {
  "kernelspec": {
   "display_name": "Python 3 (ipykernel)",
   "language": "python",
   "name": "python3"
  },
  "language_info": {
   "codemirror_mode": {
    "name": "ipython",
    "version": 3
   },
   "file_extension": ".py",
   "mimetype": "text/x-python",
   "name": "python",
   "nbconvert_exporter": "python",
   "pygments_lexer": "ipython3",
   "version": "3.9.12"
  }
 },
 "nbformat": 4,
 "nbformat_minor": 5
}
